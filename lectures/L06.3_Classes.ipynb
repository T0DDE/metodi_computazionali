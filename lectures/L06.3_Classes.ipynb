{
 "cells": [
  {
   "cell_type": "markdown",
   "id": "5487fefe",
   "metadata": {},
   "source": [
    "# Section 7 - Basics of OOP: Classes\n",
    "\n",
    "As the name suggests, Object-Oriented Programming or OOPs refers to languages that use objects in programming. Object-oriented programming aims to implement real-world entities like inheritance, hiding, polymorphism, etc in programming. The main aim of OOP is to bind together the data and the functions that operate on them so that no other part of the code can access this data except that function. (_Geeks For Geeks_)\n",
    "\n",
    "* To make the development and maintenance of projects more effortless. \n",
    "* To provide the feature of data hiding that is good for security concerns.  \n",
    "* We can solve real-world problems if we are using object-oriented programming. \n",
    "* It ensures code reusability. \n",
    "* It lets us write generic code: which will work with a range of data, so we don’t have to write basic stuff over and over again.\n",
    "\n",
    "| | **IS** | **HAS** | **DOES** |\n",
    "|-|--------|---------|----------|\n",
    "| **Concept**| What type of _entity_ (abstract or real) should the object describe? | What are the attributes that define such _entity_ | What actions shuold it be able to perform? |\n",
    "| **Hyper-uranium** | class definition | class attributes | class methods |\n",
    "| **Manifestation** | instance | instance attributes | instance methods |\n",
    "\n",
    "What about Python?\n",
    "\n",
    "* Basic python data types, like ``int`` and ``float``, may be used to **build more sophisticated mathematical objects**, such as complex numbers, fractions, matrices\n",
    "* Such high-level objects do have **their own behaviours and rules**: how to perform sums, multiplications, subtractions, *et cetera*\n",
    "* **A python ```class```** is a way to build high-level objects putting together the variables that define them and the functions that determine their behaviour\n"
   ]
  },
  {
   "cell_type": "markdown",
   "id": "68c40313",
   "metadata": {},
   "source": [
    "## Class\n",
    "- `class`\n",
    "- `self` (even though you can use whatever)"
   ]
  },
  {
   "cell_type": "code",
   "execution_count": 2,
   "id": "0c128b35-f22f-4341-b9a8-4b8f2b9898f4",
   "metadata": {},
   "outputs": [],
   "source": [
    "class Base :\n",
    "    pass"
   ]
  },
  {
   "cell_type": "code",
   "execution_count": 3,
   "id": "ae09f2d5-1c01-4ba1-a385-8ce296345022",
   "metadata": {},
   "outputs": [],
   "source": [
    "b = Base()"
   ]
  },
  {
   "cell_type": "code",
   "execution_count": 4,
   "id": "4c2697e5",
   "metadata": {},
   "outputs": [],
   "source": [
    "class Point():\n",
    "    def __init__(self, x, y): # dunder method fondamentale per la def di una classe: qui viene definito il costruttore della classe\n",
    "        self.x = x\n",
    "        self.y = y\n",
    "        \n",
    "    def method_with_no_arg(self): # if you remove self --> error\n",
    "        print(\"no args!\")\n",
    "    \n",
    "    def update(self, x, y): # do I really need this?\n",
    "        self.x = x\n",
    "        self.y = y\n",
    "    \n",
    "    def print(self): # is this pythonic?\n",
    "        print(self.x, self.y)\n",
    "        \n",
    "    def equal(self, other): # is this pythonic?\n",
    "        return (self.x, self.y) == (other.x, other.y)"
   ]
  },
  {
   "cell_type": "code",
   "execution_count": 5,
   "id": "1771cef4-8203-485d-ba1a-1f885c7637e2",
   "metadata": {},
   "outputs": [],
   "source": [
    "p = Point(1.0,2.0) # self va dato solo nella definizione, qui considera già i due valori come self.x e self.y"
   ]
  },
  {
   "cell_type": "code",
   "execution_count": 6,
   "id": "2f658409-7e5d-40c2-abba-65805ee9278f",
   "metadata": {},
   "outputs": [
    {
     "data": {
      "text/plain": [
       "(1.0, 2.0)"
      ]
     },
     "execution_count": 6,
     "metadata": {},
     "output_type": "execute_result"
    }
   ],
   "source": [
    "p.x, p.y"
   ]
  },
  {
   "cell_type": "markdown",
   "id": "05c61c02",
   "metadata": {},
   "source": [
    "> **NOTE THAT** the parenthesis ``class Point () :`` is optional, when it is empty or not present, the base class of your custom type will be a generic python object"
   ]
  },
  {
   "cell_type": "code",
   "execution_count": 7,
   "id": "c2340545",
   "metadata": {},
   "outputs": [
    {
     "name": "stdout",
     "output_type": "stream",
     "text": [
      "1 2\n"
     ]
    }
   ],
   "source": [
    "p = Point(1,2)\n",
    "print(p.x,p.y)"
   ]
  },
  {
   "cell_type": "code",
   "execution_count": 8,
   "id": "38dd2659",
   "metadata": {},
   "outputs": [
    {
     "name": "stdout",
     "output_type": "stream",
     "text": [
      "7 8\n",
      "0 0\n"
     ]
    }
   ],
   "source": [
    "p.update(7,8) \n",
    "p.print()\n",
    "\n",
    "p.x, p.y = 0,0\n",
    "p.print()"
   ]
  },
  {
   "cell_type": "code",
   "execution_count": 9,
   "id": "63df2eab",
   "metadata": {},
   "outputs": [
    {
     "name": "stdout",
     "output_type": "stream",
     "text": [
      "no args!\n"
     ]
    }
   ],
   "source": [
    "p.method_with_no_arg()"
   ]
  },
  {
   "cell_type": "code",
   "execution_count": 10,
   "id": "6963476e",
   "metadata": {},
   "outputs": [
    {
     "data": {
      "text/plain": [
       "False"
      ]
     },
     "execution_count": 10,
     "metadata": {},
     "output_type": "execute_result"
    }
   ],
   "source": [
    "p2 = Point(1,0)\n",
    "p.equal(p2)"
   ]
  },
  {
   "cell_type": "markdown",
   "id": "08fd821c",
   "metadata": {},
   "source": [
    "## The pythonic way\n",
    "\n",
    "**Function overloading** is a basic concept of OOP: some operation that might be defined for a broad set of classes will have a specific behaviour for a particular type of object.\n",
    "\n",
    "This programming paradigm is achieved by re-defining the behaviour of the specific function for a custom class"
   ]
  },
  {
   "cell_type": "code",
   "execution_count": 16,
   "id": "71ac83ad",
   "metadata": {},
   "outputs": [],
   "source": [
    "class Point():\n",
    "    '''Documention of class Point'''\n",
    "    def __init__(self, x,y):\n",
    "        self.x = x\n",
    "        self.y = y\n",
    "            \n",
    "    def __str__(self):\n",
    "        ''' posso inserire una descrizione anche delle singole funzioni'''\n",
    "        #return str((self.x,self.y))\n",
    "        return f'Point:\\nx={self.x}\\ny={self.y}'\n",
    "    \n",
    "    def __eq__(self, other):\n",
    "        #return self.x == other.x and self.y == other.y\n",
    "        return (self.x,self.y) == (other.x, other.y)\n",
    "        "
   ]
  },
  {
   "cell_type": "code",
   "execution_count": 17,
   "id": "a73bda5b",
   "metadata": {},
   "outputs": [
    {
     "name": "stdout",
     "output_type": "stream",
     "text": [
      "Point:\n",
      "x=3\n",
      "y=4\n"
     ]
    }
   ],
   "source": [
    "p = Point(3,4)\n",
    "print(p)"
   ]
  },
  {
   "cell_type": "code",
   "execution_count": 13,
   "id": "8239e87d",
   "metadata": {},
   "outputs": [
    {
     "data": {
      "text/plain": [
       "False"
      ]
     },
     "execution_count": 13,
     "metadata": {},
     "output_type": "execute_result"
    }
   ],
   "source": [
    "p2 = Point(4,5)\n",
    "p == p2"
   ]
  },
  {
   "cell_type": "code",
   "execution_count": 14,
   "id": "3bc64e43",
   "metadata": {},
   "outputs": [
    {
     "data": {
      "text/plain": [
       "True"
      ]
     },
     "execution_count": 14,
     "metadata": {},
     "output_type": "execute_result"
    }
   ],
   "source": [
    "p2.x, p2.y = 3 ,4\n",
    "p == p2"
   ]
  },
  {
   "cell_type": "code",
   "execution_count": 18,
   "id": "06ea4498",
   "metadata": {},
   "outputs": [
    {
     "name": "stdout",
     "output_type": "stream",
     "text": [
      "Help on Point in module __main__ object:\n",
      "\n",
      "class Point(builtins.object)\n",
      " |  Point(x, y)\n",
      " |\n",
      " |  Documention of class Point\n",
      " |\n",
      " |  Methods defined here:\n",
      " |\n",
      " |  __eq__(self, other)\n",
      " |      Return self==value.\n",
      " |\n",
      " |  __init__(self, x, y)\n",
      " |      Initialize self.  See help(type(self)) for accurate signature.\n",
      " |\n",
      " |  __str__(self)\n",
      " |      posso inserire una descrizione anche delle singole funzioni\n",
      " |\n",
      " |  ----------------------------------------------------------------------\n",
      " |  Data descriptors defined here:\n",
      " |\n",
      " |  __dict__\n",
      " |      dictionary for instance variables\n",
      " |\n",
      " |  __weakref__\n",
      " |      list of weak references to the object\n",
      " |\n",
      " |  ----------------------------------------------------------------------\n",
      " |  Data and other attributes defined here:\n",
      " |\n",
      " |  __hash__ = None\n",
      "\n"
     ]
    }
   ],
   "source": [
    "help(p)"
   ]
  },
  {
   "cell_type": "markdown",
   "id": "8b3e486d",
   "metadata": {},
   "source": [
    "Signatures: [here](https://www.geeksforgeeks.org/operator-overloading-in-python/)"
   ]
  },
  {
   "cell_type": "markdown",
   "id": "89847065",
   "metadata": {},
   "source": [
    "### Difference between ``__repr__`` and ``__str__``\n",
    "\n",
    "* ``__repr__`` is for the prorgrammer, the **string representation** should make it possible to re-create an object equal to the original one.\n",
    "* ``__str__`` this representation enables any user to understand the data contained in the object. Usually, it’s simpler and easier to read for a user.\n",
    "\n",
    "```python\n",
    "def __str__ (self) :\n",
    "    return f'Point:\\nx={self.x}\\ny={self.y}'\n",
    "def __repr__ (self) :\n",
    "    return f'{type(self)}({self.x}, {self.y})'\n",
    "```\n",
    "\n",
    "While ``__str__`` is redirected to the stdout by the ``print`` function, to get ``__repr__`` we should use the ``repr`` function "
   ]
  },
  {
   "cell_type": "code",
   "execution_count": 19,
   "id": "d81da502",
   "metadata": {},
   "outputs": [],
   "source": [
    "class Point():\n",
    "    '''Documention of class Point'''\n",
    "    def __init__(self, x,y):\n",
    "        self.x = x\n",
    "        self.y = y\n",
    "            \n",
    "    def __str__(self):\n",
    "        return f'Point:\\nx={self.x}\\ny={self.y}'\n",
    "    \n",
    "    def __repr__ (self) :\n",
    "        return f'{type(self).__name__}({self.x}, {self.y})'\n",
    "    \n",
    "    def __eq__(self, other):\n",
    "        return (self.x,self.y) == (other.x, other.y)\n",
    "    \n",
    "    def __add__ (self, other) :\n",
    "        return type(self)(self.x + other.x, self.y + other.y) \n",
    "'''\n",
    "C'è type(), che restituisce un nuovo oggetto di tipo \"me stesso\", che sia con coordinate x.self + x.other e idem con y.\n",
    "Garantisco che tutte le classi derivate che usano la somma implementata nella classe base, ritornino oggetti della stessa classe.\n",
    "\n",
    "'''"
   ]
  },
  {
   "cell_type": "code",
   "execution_count": 20,
   "id": "54a12b60",
   "metadata": {},
   "outputs": [],
   "source": [
    "p = Point(3,4)"
   ]
  },
  {
   "cell_type": "code",
   "execution_count": 21,
   "id": "3a566489",
   "metadata": {},
   "outputs": [],
   "source": [
    "p2 = Point(3, 4)"
   ]
  },
  {
   "cell_type": "markdown",
   "id": "f0ac34bb",
   "metadata": {},
   "source": [
    "* overload of the equal operator:"
   ]
  },
  {
   "cell_type": "code",
   "execution_count": 22,
   "id": "2d4eb658",
   "metadata": {},
   "outputs": [
    {
     "data": {
      "text/plain": [
       "True"
      ]
     },
     "execution_count": 22,
     "metadata": {},
     "output_type": "execute_result"
    }
   ],
   "source": [
    "p == p2"
   ]
  },
  {
   "cell_type": "markdown",
   "id": "6ded8964",
   "metadata": {},
   "source": [
    "* overload of the **print built-in**"
   ]
  },
  {
   "cell_type": "code",
   "execution_count": 23,
   "id": "f6371ec7",
   "metadata": {},
   "outputs": [
    {
     "name": "stdout",
     "output_type": "stream",
     "text": [
      "Point:\n",
      "x=3\n",
      "y=4\n"
     ]
    }
   ],
   "source": [
    "print(p)"
   ]
  },
  {
   "cell_type": "markdown",
   "id": "05de7289",
   "metadata": {},
   "source": [
    "* overload of the **string representation**"
   ]
  },
  {
   "cell_type": "code",
   "execution_count": 24,
   "id": "4845a015",
   "metadata": {},
   "outputs": [
    {
     "data": {
      "text/plain": [
       "'Point(3, 4)'"
      ]
     },
     "execution_count": 24,
     "metadata": {},
     "output_type": "execute_result"
    }
   ],
   "source": [
    "repr(p)"
   ]
  },
  {
   "cell_type": "markdown",
   "id": "ede3de2a",
   "metadata": {},
   "source": [
    "The ``eval`` built-in function executes a **python command** written in a string"
   ]
  },
  {
   "cell_type": "code",
   "execution_count": 25,
   "id": "6f06a9df",
   "metadata": {},
   "outputs": [
    {
     "data": {
      "text/plain": [
       "True"
      ]
     },
     "execution_count": 25,
     "metadata": {},
     "output_type": "execute_result"
    }
   ],
   "source": [
    "p == eval(repr(p))"
   ]
  },
  {
   "cell_type": "markdown",
   "id": "becd0ee0",
   "metadata": {},
   "source": [
    "* overload of the **addition operator**"
   ]
  },
  {
   "cell_type": "code",
   "execution_count": 27,
   "id": "f9478345",
   "metadata": {},
   "outputs": [],
   "source": [
    "p1 = Point(1,2)\n",
    "p2 = Point(2,1)"
   ]
  },
  {
   "cell_type": "code",
   "execution_count": 28,
   "id": "4ecb9900",
   "metadata": {},
   "outputs": [],
   "source": [
    "p3 = p1+p2"
   ]
  },
  {
   "cell_type": "code",
   "execution_count": 29,
   "id": "b8f9453a",
   "metadata": {},
   "outputs": [
    {
     "name": "stdout",
     "output_type": "stream",
     "text": [
      "Point:\n",
      "x=3\n",
      "y=3\n"
     ]
    }
   ],
   "source": [
    "print(p3)"
   ]
  },
  {
   "cell_type": "markdown",
   "id": "40450593",
   "metadata": {},
   "source": [
    "## Very little tiny basic of Inheritance:"
   ]
  },
  {
   "cell_type": "markdown",
   "id": "c9a84877",
   "metadata": {},
   "source": [
    "A **child class** is a class that inherits from some **parent class** all the methods and attributes defined for the parent\n",
    "\n",
    "> * A child of a Point **IS** still a Point, as all the Dogs are Animals but not all the Animals are Dogs\n",
    "> * A class that inherits from some other class is a **DERIVED CLASS**\n",
    "> * A class that is inherited by other classes is a **BASE CLASS**"
   ]
  },
  {
   "cell_type": "code",
   "execution_count": 51,
   "id": "43643c3f",
   "metadata": {},
   "outputs": [],
   "source": [
    "class Particle ( Point ) :\n",
    "    \"\"\"Example documentation of class Particle\n",
    "    \"\"\"\n",
    "    def __init__ (self,  x, y, mass = 0.0, unit = 1000 ) :\n",
    "        super().__init__(x,y)\n",
    "        self.mass = mass\n",
    "        self._unit = unit\n",
    "        self_unitname= 'grams'\n",
    "        \n",
    "    def __str__ ( self ) :\n",
    "        \"\"\"Example documentation of instance dundler method __str__\"\"\"\n",
    "        return super().__str__() + f'\\n{self.mass*self._unit:.2f} {self._unitname}'  #super() prende il self di point, non di particle\n",
    "    def change_unit (self, which):\n",
    "        if which == 'kilograms':\n",
    "            self._unit *= 0.001\n",
    "            self._unitname *= which\n",
    "        elif which == 'decigrams':\n",
    "            self._unit *= 10\n",
    "            self._unitname *= which\n",
    "        else:\n",
    "            raise UserError('funit {which} is not defined')\n",
    "    def __add__(self, other):\n",
    "        out = super().__add__(other)\n",
    "        out.mass = self.mass + other.mass\n",
    "        return out"
   ]
  },
  {
   "cell_type": "code",
   "execution_count": 39,
   "id": "8c2d53ec-e187-4a37-92e6-fffbcca3129e",
   "metadata": {},
   "outputs": [
    {
     "data": {
      "text/plain": [
       "['__add__',\n",
       " '__class__',\n",
       " '__delattr__',\n",
       " '__dict__',\n",
       " '__dir__',\n",
       " '__doc__',\n",
       " '__eq__',\n",
       " '__firstlineno__',\n",
       " '__format__',\n",
       " '__ge__',\n",
       " '__getattribute__',\n",
       " '__getstate__',\n",
       " '__gt__',\n",
       " '__hash__',\n",
       " '__init__',\n",
       " '__init_subclass__',\n",
       " '__le__',\n",
       " '__lt__',\n",
       " '__module__',\n",
       " '__ne__',\n",
       " '__new__',\n",
       " '__reduce__',\n",
       " '__reduce_ex__',\n",
       " '__repr__',\n",
       " '__setattr__',\n",
       " '__sizeof__',\n",
       " '__static_attributes__',\n",
       " '__str__',\n",
       " '__subclasshook__',\n",
       " '__weakref__',\n",
       " 'change_unit']"
      ]
     },
     "execution_count": 39,
     "metadata": {},
     "output_type": "execute_result"
    }
   ],
   "source": [
    "dir(Particle)"
   ]
  },
  {
   "cell_type": "code",
   "execution_count": 52,
   "id": "625aae8b",
   "metadata": {},
   "outputs": [],
   "source": [
    "pa = Particle(1,1,1)"
   ]
  },
  {
   "cell_type": "code",
   "execution_count": 53,
   "id": "2a4a8118-2e23-4a0c-8c40-67e8659e5bfd",
   "metadata": {},
   "outputs": [],
   "source": [
    "pa2 = pa + Particle(2, 1, 3) # eredita i metodi di point, ma in questo caso sarebbe da riscrivere un po' diversamente"
   ]
  },
  {
   "cell_type": "code",
   "execution_count": 54,
   "id": "b9ae2bf9",
   "metadata": {},
   "outputs": [
    {
     "name": "stdout",
     "output_type": "stream",
     "text": [
      "Help on function __str__ in module __main__:\n",
      "\n",
      "__str__(self)\n",
      "    Example documentation of instance dundler method __str__\n",
      "\n"
     ]
    }
   ],
   "source": [
    "help(Particle.__str__)"
   ]
  },
  {
   "cell_type": "code",
   "execution_count": 55,
   "id": "00e64f05",
   "metadata": {},
   "outputs": [],
   "source": [
    "pa = Particle(1, 1, 0)"
   ]
  },
  {
   "cell_type": "code",
   "execution_count": 56,
   "id": "1763ff78-d5dc-4e3c-9991-706b4c526e51",
   "metadata": {},
   "outputs": [
    {
     "ename": "AttributeError",
     "evalue": "'Particle' object has no attribute '_unitname'",
     "output_type": "error",
     "traceback": [
      "\u001b[31m---------------------------------------------------------------------------\u001b[39m",
      "\u001b[31mAttributeError\u001b[39m                            Traceback (most recent call last)",
      "\u001b[36mCell\u001b[39m\u001b[36m \u001b[39m\u001b[32mIn[56]\u001b[39m\u001b[32m, line 1\u001b[39m\n\u001b[32m----> \u001b[39m\u001b[32m1\u001b[39m \u001b[38;5;28;43mprint\u001b[39;49m\u001b[43m(\u001b[49m\u001b[43mpa2\u001b[49m\u001b[43m)\u001b[49m\n",
      "\u001b[36mCell\u001b[39m\u001b[36m \u001b[39m\u001b[32mIn[51]\u001b[39m\u001b[32m, line 12\u001b[39m, in \u001b[36mParticle.__str__\u001b[39m\u001b[34m(self)\u001b[39m\n\u001b[32m     10\u001b[39m \u001b[38;5;28;01mdef\u001b[39;00m\u001b[38;5;250m \u001b[39m\u001b[34m__str__\u001b[39m ( \u001b[38;5;28mself\u001b[39m ) :\n\u001b[32m     11\u001b[39m \u001b[38;5;250m    \u001b[39m\u001b[33;03m\"\"\"Example documentation of instance dundler method __str__\"\"\"\u001b[39;00m\n\u001b[32m---> \u001b[39m\u001b[32m12\u001b[39m     \u001b[38;5;28;01mreturn\u001b[39;00m \u001b[38;5;28msuper\u001b[39m().\u001b[34m__str__\u001b[39m() + \u001b[33mf\u001b[39m\u001b[33m'\u001b[39m\u001b[38;5;130;01m\\n\u001b[39;00m\u001b[38;5;132;01m{\u001b[39;00m\u001b[38;5;28mself\u001b[39m.mass*\u001b[38;5;28mself\u001b[39m._unit\u001b[38;5;132;01m:\u001b[39;00m\u001b[33m.2f\u001b[39m\u001b[38;5;132;01m}\u001b[39;00m\u001b[33m \u001b[39m\u001b[38;5;132;01m{\u001b[39;00m\u001b[38;5;28;43mself\u001b[39;49m\u001b[43m.\u001b[49m\u001b[43m_unitname\u001b[49m\u001b[38;5;132;01m}\u001b[39;00m\u001b[33m'\u001b[39m\n",
      "\u001b[31mAttributeError\u001b[39m: 'Particle' object has no attribute '_unitname'"
     ]
    }
   ],
   "source": [
    "print(pa2)"
   ]
  },
  {
   "cell_type": "code",
   "execution_count": 34,
   "id": "3bcda92c",
   "metadata": {},
   "outputs": [
    {
     "name": "stdout",
     "output_type": "stream",
     "text": [
      "Point:\n",
      "x=1\n",
      "y=0\n",
      "1000.00 grams\n"
     ]
    }
   ],
   "source": [
    "print(pa)"
   ]
  },
  {
   "cell_type": "markdown",
   "id": "3303f186",
   "metadata": {},
   "source": [
    "> **DO NOT** modify attributes whose name start with an underscore, that is a convention for _private variables_"
   ]
  },
  {
   "cell_type": "code",
   "execution_count": 35,
   "id": "e5c4edc9",
   "metadata": {},
   "outputs": [],
   "source": [
    "pa._unit = 123"
   ]
  },
  {
   "cell_type": "code",
   "execution_count": 36,
   "id": "14282a6d",
   "metadata": {},
   "outputs": [
    {
     "name": "stdout",
     "output_type": "stream",
     "text": [
      "Point:\n",
      "x=1\n",
      "y=0\n",
      "123.00 grams\n"
     ]
    }
   ],
   "source": [
    "print(pa)"
   ]
  },
  {
   "cell_type": "code",
   "execution_count": null,
   "id": "185f9aff-7999-4251-9cef-a6186b0c2b08",
   "metadata": {},
   "outputs": [],
   "source": [
    "#piuttosto si fa la funzione\n",
    "def change_unit (self, which):\n",
    "    if which == 'kilograms':\n",
    "        self._unit *= 0.001\n",
    "        self._unitname *= which\n",
    "    elif which == 'decigrams':\n",
    "        self._unit *= 10\n",
    "        self._unitname *= which\n",
    "    else:\n",
    "        raise UserError('funit {which} is not defined')"
   ]
  }
 ],
 "metadata": {
  "kernelspec": {
   "display_name": "Python 3 (ipykernel)",
   "language": "python",
   "name": "python3"
  },
  "language_info": {
   "codemirror_mode": {
    "name": "ipython",
    "version": 3
   },
   "file_extension": ".py",
   "mimetype": "text/x-python",
   "name": "python",
   "nbconvert_exporter": "python",
   "pygments_lexer": "ipython3",
   "version": "3.13.2"
  }
 },
 "nbformat": 4,
 "nbformat_minor": 5
}
