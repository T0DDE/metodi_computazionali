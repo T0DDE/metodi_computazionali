{
 "cells": [
  {
   "cell_type": "markdown",
   "id": "d92ad10f",
   "metadata": {},
   "source": [
    "# Section 6 - Modules, Packages and Scripts\n",
    "\n",
    "* Collections of functions to be used in many programs may be collected in packages or modules that can be imported in scripts\n",
    "\n",
    "### modules are just `.py` files (with python code)"
   ]
  },
  {
   "cell_type": "code",
   "execution_count": 1,
   "id": "c0c4d916",
   "metadata": {},
   "outputs": [
    {
     "name": "stdout",
     "output_type": "stream",
     "text": [
      "def foo():\n",
      "    print('Fooing')\n",
      "\n",
      "def bar():\n",
      "    print('Barring')\n"
     ]
    }
   ],
   "source": [
    "!cat my_module.py"
   ]
  },
  {
   "cell_type": "code",
   "execution_count": 2,
   "id": "20414d84",
   "metadata": {},
   "outputs": [],
   "source": [
    "import my_module"
   ]
  },
  {
   "cell_type": "code",
   "execution_count": 3,
   "id": "01133ab4",
   "metadata": {},
   "outputs": [
    {
     "name": "stdout",
     "output_type": "stream",
     "text": [
      "Fooing\n",
      "Barring\n"
     ]
    }
   ],
   "source": [
    "#erases already defined variables\n",
    "%reset -f\n",
    "import my_module\n",
    "my_module.foo()\n",
    "my_module.bar()\n",
    "# foo() # error"
   ]
  },
  {
   "cell_type": "code",
   "execution_count": 4,
   "id": "36dafc49",
   "metadata": {},
   "outputs": [
    {
     "name": "stdout",
     "output_type": "stream",
     "text": [
      "Fooing\n"
     ]
    }
   ],
   "source": [
    "%reset -f\n",
    "from my_module import foo\n",
    "foo()\n",
    "# bar() # error, not defined"
   ]
  },
  {
   "cell_type": "code",
   "execution_count": 5,
   "id": "9115c57c",
   "metadata": {},
   "outputs": [
    {
     "name": "stdout",
     "output_type": "stream",
     "text": [
      "Fooing\n",
      "Barring\n"
     ]
    }
   ],
   "source": [
    "%reset -f\n",
    "import my_module as mm\n",
    "mm.foo()\n",
    "mm.bar()"
   ]
  },
  {
   "cell_type": "code",
   "execution_count": 6,
   "id": "5d5a4fbc",
   "metadata": {},
   "outputs": [
    {
     "name": "stdout",
     "output_type": "stream",
     "text": [
      "Fooing\n",
      "Barring\n"
     ]
    }
   ],
   "source": [
    "%reset -f\n",
    "from my_module import *\n",
    "foo()\n",
    "bar()"
   ]
  },
  {
   "cell_type": "code",
   "execution_count": 7,
   "id": "5e4f3370",
   "metadata": {},
   "outputs": [
    {
     "name": "stdout",
     "output_type": "stream",
     "text": [
      "Fooing\n"
     ]
    }
   ],
   "source": [
    "%reset -f\n",
    "from my_module import foo as alternative_name_for_foo\n",
    "alternative_name_for_foo()"
   ]
  },
  {
   "cell_type": "markdown",
   "id": "11d7511a",
   "metadata": {},
   "source": [
    "### where are the python modules?"
   ]
  },
  {
   "cell_type": "code",
   "execution_count": 1,
   "id": "e75b1546",
   "metadata": {},
   "outputs": [
    {
     "name": "stdout",
     "output_type": "stream",
     "text": [
      "['/usr/lib/python313.zip', '/usr/lib/python3.13', '/usr/lib/python3.13/lib-dynload', '', '/usr/lib/python3.13/site-packages']\n"
     ]
    }
   ],
   "source": [
    "import sys\n",
    "print(sys.path)"
   ]
  },
  {
   "cell_type": "markdown",
   "id": "74572e69",
   "metadata": {},
   "source": [
    "### more modules can be added through the environment variable `PYTHONPATH`"
   ]
  },
  {
   "cell_type": "markdown",
   "id": "0e1f3e8b",
   "metadata": {},
   "source": [
    "## How can I organize modules? Packages"
   ]
  },
  {
   "cell_type": "code",
   "execution_count": 11,
   "id": "c783de9e",
   "metadata": {},
   "outputs": [
    {
     "name": "stdout",
     "output_type": "stream",
     "text": [
      "\u001b[01;34mmy_package/\u001b[0m\n",
      "├── bar_module.py\n",
      "├── foo_module.py\n",
      "└── __init__.py\n",
      "\n",
      "1 directory, 3 files\n"
     ]
    }
   ],
   "source": [
    "!tree my_package/ \n",
    "# l'esistenza di __init__.py è ciò che rende la directory un pacchetto python. Basta che esista, non occorre che ci sia qualcosa. "
   ]
  },
  {
   "cell_type": "code",
   "execution_count": 12,
   "id": "b878ffed",
   "metadata": {},
   "outputs": [
    {
     "name": "stdout",
     "output_type": "stream",
     "text": [
      "# it must be present\n",
      "\n",
      "# can be empty\n",
      "\n",
      "# or set the __all__ variable, which overrides *\n",
      "\n",
      "__all__=['foo_module','bar_module']\n",
      "#__all__=['foo_module']\n",
      "\n",
      "# if the __all__ variable contains all the modules\n",
      "# do not define it\n"
     ]
    }
   ],
   "source": [
    "!cat my_package/__init__.py"
   ]
  },
  {
   "cell_type": "markdown",
   "id": "c68d231d",
   "metadata": {},
   "source": [
    "> **NOTE** that it is the existence of the ``__init__.py`` file that makes a directory a python package."
   ]
  },
  {
   "cell_type": "markdown",
   "id": "7c8f2d3c",
   "metadata": {},
   "source": [
    "### it is good practice to not import packages!!!!"
   ]
  },
  {
   "cell_type": "code",
   "execution_count": 13,
   "id": "ced77731",
   "metadata": {},
   "outputs": [
    {
     "ename": "AttributeError",
     "evalue": "module 'my_package' has no attribute 'foo_module'",
     "output_type": "error",
     "traceback": [
      "\u001b[31m---------------------------------------------------------------------------\u001b[39m",
      "\u001b[31mAttributeError\u001b[39m                            Traceback (most recent call last)",
      "\u001b[36mCell\u001b[39m\u001b[36m \u001b[39m\u001b[32mIn[13]\u001b[39m\u001b[32m, line 2\u001b[39m\n\u001b[32m      1\u001b[39m \u001b[38;5;28;01mimport\u001b[39;00m\u001b[38;5;250m \u001b[39m\u001b[34;01mmy_package\u001b[39;00m\n\u001b[32m----> \u001b[39m\u001b[32m2\u001b[39m \u001b[43mmy_package\u001b[49m\u001b[43m.\u001b[49m\u001b[43mfoo_module\u001b[49m.foo()\n",
      "\u001b[31mAttributeError\u001b[39m: module 'my_package' has no attribute 'foo_module'"
     ]
    }
   ],
   "source": [
    "import my_package\n",
    "my_package.foo_module.foo()"
   ]
  },
  {
   "cell_type": "markdown",
   "id": "bbf87837",
   "metadata": {},
   "source": [
    "### it is better to import the modules in the package"
   ]
  },
  {
   "cell_type": "code",
   "execution_count": 17,
   "id": "e40caaa8",
   "metadata": {},
   "outputs": [
    {
     "name": "stdout",
     "output_type": "stream",
     "text": [
      "Fooing from a package\n",
      "Barring from a package\n"
     ]
    }
   ],
   "source": [
    "%reset -f\n",
    "import my_package.foo_module # import submodule\n",
    "import my_package.bar_module\n",
    "my_package.foo_module.foo()\n",
    "my_package.bar_module.bar()"
   ]
  },
  {
   "cell_type": "code",
   "execution_count": 18,
   "id": "ff562357",
   "metadata": {},
   "outputs": [
    {
     "name": "stdout",
     "output_type": "stream",
     "text": [
      "Fooing from a package\n",
      "Barring from a package\n"
     ]
    }
   ],
   "source": [
    "%reset -f\n",
    "from my_package import foo_module,bar_module\n",
    "foo_module.foo()\n",
    "bar_module.bar()"
   ]
  },
  {
   "cell_type": "markdown",
   "id": "aaef4369",
   "metadata": {},
   "source": [
    "### or you could import _everything_ from the package"
   ]
  },
  {
   "cell_type": "code",
   "execution_count": 19,
   "id": "a843987e",
   "metadata": {},
   "outputs": [
    {
     "name": "stdout",
     "output_type": "stream",
     "text": [
      "Fooing from a package\n",
      "Barring from a package\n"
     ]
    }
   ],
   "source": [
    "%reset -f\n",
    "from my_package import *\n",
    "foo_module.foo()\n",
    "bar_module.bar()"
   ]
  },
  {
   "cell_type": "markdown",
   "id": "6b505fbe",
   "metadata": {},
   "source": [
    "what is **everything**? typically, all the variables defined in the package/module"
   ]
  },
  {
   "cell_type": "code",
   "execution_count": 20,
   "id": "dea5b75f",
   "metadata": {},
   "outputs": [
    {
     "name": "stdout",
     "output_type": "stream",
     "text": [
      "Fooing from a package\n"
     ]
    }
   ],
   "source": [
    "%reset -f\n",
    "from my_package.foo_module import *\n",
    "foo()"
   ]
  },
  {
   "cell_type": "markdown",
   "id": "50256197",
   "metadata": {},
   "source": [
    "### even better is to assign aliases to the modules (and packages) you are importing"
   ]
  },
  {
   "cell_type": "code",
   "execution_count": 21,
   "id": "0545d41a",
   "metadata": {},
   "outputs": [
    {
     "name": "stdout",
     "output_type": "stream",
     "text": [
      "Fooing from a package\n",
      "Barring from a package\n"
     ]
    }
   ],
   "source": [
    "%reset -f\n",
    "from my_package import foo_module as  f\n",
    "from my_package import bar_module as  b\n",
    "f.foo()\n",
    "b.bar()"
   ]
  },
  {
   "cell_type": "markdown",
   "id": "c61bc6a1",
   "metadata": {},
   "source": [
    "## An example\n",
    "\n",
    "Let's say I have written a python module, named ``get_sqrt.py``, as follows\n",
    "\n",
    "```python\n",
    "import sys\n",
    "\n",
    "def sqrt_safe(x : 'float>0.0') -> float:\n",
    "    \"\"\"Computes the squared root of a number,\n",
    "    accounting for negative numbers.\n",
    "    \n",
    "    Parameters\n",
    "    ----------\n",
    "    x : float\n",
    "        a number\n",
    "        \n",
    "    Returns\n",
    "    -------\n",
    "    : float\n",
    "        the square root of a number\n",
    "    \"\"\"\n",
    "    from math import sqrt\n",
    "    if x < 0.0 :\n",
    "        return sqrt(-x) * 1j\n",
    "    else :\n",
    "        return sqrt(x)\n",
    "    \n",
    "    \n",
    "if __name__ == \"__main__\" :\n",
    "    x = int(sys.argv[1]) # questo prende un argomento da terminale. ad esempio chiamerei questo script come $ python nome_scipt.py 4 --> 2\n",
    "    print(sqrt_safe(x))\n",
    "```\n",
    "\n",
    "From the command line I could use it as a script, like this\n",
    "\n",
    "```bash\n",
    "$ python get_sqrt.py 4\n",
    "2\n",
    "$ python get_sqrt.py -4\n",
    "2j\n",
    "```\n",
    "\n",
    "But I could also use it as a module from some other script or interactive python instance:\n",
    "\n",
    "```python\n",
    "from get_sqrt import sqrt_safe as sqrt\n",
    "a = -4\n",
    "b = sqrt(a)\n",
    "```\n",
    "\n",
    "### Why? How?\n",
    "\n",
    "The difference between modules and scripts is _subtle_ in python. \n",
    "\n",
    "When I execute a script or load a module, the same operation is done:\n",
    "**everything that is at the lowest level of indentation is executed**\n",
    "\n",
    "The difference in the two actions is that, in case we execute the file as a script, this lowest level of indentation is assigned a name (stored in the ``__name__`` default variable) that will be ``'__main__'`` (it's a string).\n",
    "On the other hand, if we load the file as a module, the name assigned will be the name of the module itself.\n",
    "\n",
    "You can do some experiments with something like this:\n",
    "```python\n",
    "def func () :\n",
    "    print('doing nothing')\n",
    "\n",
    "print(__name__)\n",
    "if __name__ == '__main__' :\n",
    "    func()\n",
    "```\n",
    "\n",
    "Save this in a ``mod.py`` file and try to **import** it or **execute** it, see the difference."
   ]
  },
  {
   "cell_type": "code",
   "execution_count": null,
   "id": "c1a847ba-6e11-48f3-9ff8-22369b06512e",
   "metadata": {},
   "outputs": [],
   "source": [
    "# Se ho una struttura ad albero in cui c'è un sottopacchetto, anche lì deve esserci __init__.py\n",
    "# Quando importo un modulo viene eseguito tutto lo script che c'è al suo interno"
   ]
  },
  {
   "cell_type": "code",
   "execution_count": 22,
   "id": "0b714c68-d9d1-4370-b8a5-abc568e98982",
   "metadata": {},
   "outputs": [],
   "source": [
    "# Sulla parte\n",
    "\n",
    "#if __name__ == \"__main__\" :\n",
    "#    x = int(sys.argv[1]) \n",
    "#    print(sqrt_safe(x))\n",
    "\n",
    "\n",
    "#ogni volta che eseguo sto file da python (quando name == main) fa quello che c'è scritto dopo. "
   ]
  },
  {
   "cell_type": "code",
   "execution_count": 23,
   "id": "cf9d6e2c-769b-45a8-ad7e-c84300db5c97",
   "metadata": {},
   "outputs": [],
   "source": [
    "# se importo un modulo, al __name__ da il nome del modulo\n",
    "# questo fa sì che il modulo possa essere usato come eseguibile, o importato, e funzionare come deve (?)"
   ]
  },
  {
   "cell_type": "code",
   "execution_count": null,
   "id": "0a7a3c04-cd8e-4c0a-8ad1-d2932fe6de70",
   "metadata": {},
   "outputs": [],
   "source": []
  }
 ],
 "metadata": {
  "kernelspec": {
   "display_name": "Python 3 (ipykernel)",
   "language": "python",
   "name": "python3"
  },
  "language_info": {
   "codemirror_mode": {
    "name": "ipython",
    "version": 3
   },
   "file_extension": ".py",
   "mimetype": "text/x-python",
   "name": "python",
   "nbconvert_exporter": "python",
   "pygments_lexer": "ipython3",
   "version": "3.13.2"
  }
 },
 "nbformat": 4,
 "nbformat_minor": 5
}
