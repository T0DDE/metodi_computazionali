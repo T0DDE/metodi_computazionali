{
 "cells": [
  {
   "cell_type": "markdown",
   "id": "782d0807",
   "metadata": {},
   "source": [
    "# Section 5 - Again on variables\n",
    "\n",
    "Given their nature, there are some subtleties to be careful of when working with variables in Python applications"
   ]
  },
  {
   "cell_type": "markdown",
   "id": "4e52d163",
   "metadata": {},
   "source": [
    "## Global VS Local variables"
   ]
  },
  {
   "cell_type": "markdown",
   "id": "c54bcc12",
   "metadata": {},
   "source": [
    "### Global"
   ]
  },
  {
   "cell_type": "code",
   "execution_count": 1,
   "id": "b96a694f",
   "metadata": {},
   "outputs": [
    {
     "name": "stdout",
     "output_type": "stream",
     "text": [
      "inside foo 9\n",
      "main 9\n"
     ]
    }
   ],
   "source": [
    "b = 9\n",
    "def foo():\n",
    "    print(\"inside foo\", b)\n",
    "\n",
    "foo()\n",
    "print(\"main\", b)"
   ]
  },
  {
   "cell_type": "markdown",
   "id": "05673e2c",
   "metadata": {},
   "source": [
    "``b`` is a global variable"
   ]
  },
  {
   "cell_type": "markdown",
   "id": "afd413e3",
   "metadata": {},
   "source": [
    "###  Local"
   ]
  },
  {
   "cell_type": "code",
   "execution_count": 2,
   "id": "3ffa39b6",
   "metadata": {},
   "outputs": [
    {
     "name": "stdout",
     "output_type": "stream",
     "text": [
      "inside bar 7\n"
     ]
    },
    {
     "ename": "NameError",
     "evalue": "name 'y' is not defined",
     "output_type": "error",
     "traceback": [
      "\u001b[31m---------------------------------------------------------------------------\u001b[39m",
      "\u001b[31mNameError\u001b[39m                                 Traceback (most recent call last)",
      "\u001b[36mCell\u001b[39m\u001b[36m \u001b[39m\u001b[32mIn[2]\u001b[39m\u001b[32m, line 6\u001b[39m\n\u001b[32m      3\u001b[39m     \u001b[38;5;28mprint\u001b[39m(\u001b[33m\"\u001b[39m\u001b[33minside bar\u001b[39m\u001b[33m\"\u001b[39m, y)\n\u001b[32m      5\u001b[39m bar()\n\u001b[32m----> \u001b[39m\u001b[32m6\u001b[39m \u001b[38;5;28mprint\u001b[39m(\u001b[33m\"\u001b[39m\u001b[33mmain\u001b[39m\u001b[33m\"\u001b[39m, \u001b[43my\u001b[49m) \u001b[38;5;66;03m# expect error\u001b[39;00m\n",
      "\u001b[31mNameError\u001b[39m: name 'y' is not defined"
     ]
    }
   ],
   "source": [
    "def bar():\n",
    "    y = 7\n",
    "    print(\"inside bar\", y)\n",
    "\n",
    "bar()\n",
    "print(\"main\", y) # expect error"
   ]
  },
  {
   "cell_type": "markdown",
   "id": "47a008d4",
   "metadata": {},
   "source": [
    "``y`` is a local variable"
   ]
  },
  {
   "cell_type": "markdown",
   "id": "f076215e",
   "metadata": {},
   "source": [
    "### Pay attention!"
   ]
  },
  {
   "cell_type": "code",
   "execution_count": 4,
   "id": "8efccb47",
   "metadata": {},
   "outputs": [
    {
     "name": "stdout",
     "output_type": "stream",
     "text": [
      "main 9\n"
     ]
    },
    {
     "ename": "UnboundLocalError",
     "evalue": "cannot access local variable 'b' where it is not associated with a value",
     "output_type": "error",
     "traceback": [
      "\u001b[31m---------------------------------------------------------------------------\u001b[39m",
      "\u001b[31mUnboundLocalError\u001b[39m                         Traceback (most recent call last)",
      "\u001b[36mCell\u001b[39m\u001b[36m \u001b[39m\u001b[32mIn[4]\u001b[39m\u001b[32m, line 8\u001b[39m\n\u001b[32m      5\u001b[39m     b = \u001b[32m6\u001b[39m\n\u001b[32m      7\u001b[39m \u001b[38;5;28mprint\u001b[39m(\u001b[33m\"\u001b[39m\u001b[33mmain\u001b[39m\u001b[33m\"\u001b[39m, b)\n\u001b[32m----> \u001b[39m\u001b[32m8\u001b[39m \u001b[43mmagic\u001b[49m\u001b[43m(\u001b[49m\u001b[43m)\u001b[49m\n",
      "\u001b[36mCell\u001b[39m\u001b[36m \u001b[39m\u001b[32mIn[4]\u001b[39m\u001b[32m, line 4\u001b[39m, in \u001b[36mmagic\u001b[39m\u001b[34m()\u001b[39m\n\u001b[32m      2\u001b[39m \u001b[38;5;28;01mdef\u001b[39;00m\u001b[38;5;250m \u001b[39m\u001b[34mmagic\u001b[39m(): \u001b[38;5;66;03m# first level objects, come classi o funzioni hanno priorità sulla lettura del codice da parte dell'interprete\u001b[39;00m\n\u001b[32m      3\u001b[39m     y = \u001b[32m7\u001b[39m\n\u001b[32m----> \u001b[39m\u001b[32m4\u001b[39m     \u001b[38;5;28mprint\u001b[39m(\u001b[33m\"\u001b[39m\u001b[33minside magic\u001b[39m\u001b[33m\"\u001b[39m, y, \u001b[43mb\u001b[49m)\n\u001b[32m      5\u001b[39m     b = \u001b[32m6\u001b[39m\n",
      "\u001b[31mUnboundLocalError\u001b[39m: cannot access local variable 'b' where it is not associated with a value"
     ]
    }
   ],
   "source": [
    "b = 9\n",
    "def magic(): # first level objects, come classi o funzioni hanno priorità sulla lettura del codice da parte dell'interprete\n",
    "    y = 7\n",
    "    print(\"inside magic\", y, b)\n",
    "    b = 6\n",
    "\n",
    "print(\"main\", b)\n",
    "magic()"
   ]
  },
  {
   "cell_type": "code",
   "execution_count": 5,
   "id": "89eec04e",
   "metadata": {},
   "outputs": [
    {
     "name": "stdout",
     "output_type": "stream",
     "text": [
      "inside magic_local 7 6\n",
      "main 9\n"
     ]
    }
   ],
   "source": [
    "b = 9\n",
    "def magic_local():\n",
    "    y = 7\n",
    "    b = 6\n",
    "    print(\"inside magic_local\", y, b)\n",
    "\n",
    "magic_local()\n",
    "print(\"main\", b)"
   ]
  },
  {
   "cell_type": "markdown",
   "id": "0cb0e2b2",
   "metadata": {},
   "source": [
    "### `global` keyword"
   ]
  },
  {
   "cell_type": "code",
   "execution_count": 6,
   "id": "e7fceec9",
   "metadata": {},
   "outputs": [
    {
     "name": "stdout",
     "output_type": "stream",
     "text": [
      "inside magic_local 7 9\n",
      "main 6\n"
     ]
    }
   ],
   "source": [
    "b = 9\n",
    "def magic_global():\n",
    "    global b # <----\n",
    "    y = 7\n",
    "    print(\"inside magic_local\", y, b)\n",
    "    b = 6\n",
    "\n",
    "magic_global()\n",
    "print(\"main\", b)"
   ]
  },
  {
   "cell_type": "code",
   "execution_count": 7,
   "id": "5f535048-0788-4a0c-8447-d958df7f0351",
   "metadata": {},
   "outputs": [
    {
     "name": "stdout",
     "output_type": "stream",
     "text": [
      "inside magic_local 7 6\n",
      "main 6\n"
     ]
    }
   ],
   "source": [
    "b = 9\n",
    "def magic_global():\n",
    "    global b # <----\n",
    "    y = 7\n",
    "    b = 6\n",
    "    print(\"inside magic_local\", y, b)\n",
    "    \n",
    "\n",
    "magic_global()\n",
    "print(\"main\", b)"
   ]
  },
  {
   "cell_type": "markdown",
   "id": "3acf790d",
   "metadata": {},
   "source": [
    "## Copying around variables\n",
    "\n",
    "| Copy type | Behaviour |\n",
    "|-----------|-----------|\n",
    "| **ASSIGNMENT** | make a **new variable** and assigns it the **address** of the old object | \n",
    "| **SHALLOW COPY** | make a **new object** and copies the **address** of the old object |\n",
    "| **DEEP COPY** | make a **new object** and copies the **value** of the old object (which triggers a new allocation of memory |\n",
    "\n",
    "### Shallow is the default"
   ]
  },
  {
   "cell_type": "code",
   "execution_count": 8,
   "id": "feab798b",
   "metadata": {},
   "outputs": [],
   "source": [
    "l = [1,2,[4,5,6], 8]\n",
    "o = l"
   ]
  },
  {
   "cell_type": "code",
   "execution_count": 12,
   "id": "06d60004",
   "metadata": {},
   "outputs": [
    {
     "data": {
      "text/plain": [
       "True"
      ]
     },
     "execution_count": 12,
     "metadata": {},
     "output_type": "execute_result"
    }
   ],
   "source": [
    "o == l # ??"
   ]
  },
  {
   "cell_type": "code",
   "execution_count": 13,
   "id": "f501c8e7",
   "metadata": {},
   "outputs": [
    {
     "data": {
      "text/plain": [
       "True"
      ]
     },
     "execution_count": 13,
     "metadata": {},
     "output_type": "execute_result"
    }
   ],
   "source": [
    "o is l # sono lo stesso oggetto"
   ]
  },
  {
   "cell_type": "code",
   "execution_count": 20,
   "id": "e47dc561-5c72-4eff-a3a7-d47043f3694c",
   "metadata": {},
   "outputs": [
    {
     "data": {
      "text/plain": [
       "True"
      ]
     },
     "execution_count": 20,
     "metadata": {},
     "output_type": "execute_result"
    }
   ],
   "source": [
    "prova1 = 20\n",
    "prova2 = 20\n",
    "prova1 == prova2\n"
   ]
  },
  {
   "cell_type": "code",
   "execution_count": 21,
   "id": "d2457346-c69d-4123-915c-96f28f49e09b",
   "metadata": {},
   "outputs": [
    {
     "data": {
      "text/plain": [
       "True"
      ]
     },
     "execution_count": 21,
     "metadata": {},
     "output_type": "execute_result"
    }
   ],
   "source": [
    "prova1 is prova2\n"
   ]
  },
  {
   "cell_type": "code",
   "execution_count": 22,
   "id": "d40a4bd4-3f5a-4ddf-8a85-b6c714c6c877",
   "metadata": {},
   "outputs": [
    {
     "data": {
      "text/plain": [
       "(134173867005488, 134173867005488)"
      ]
     },
     "execution_count": 22,
     "metadata": {},
     "output_type": "execute_result"
    }
   ],
   "source": [
    "id(prova1), id(prova2)"
   ]
  },
  {
   "cell_type": "code",
   "execution_count": 23,
   "id": "a8feefb5",
   "metadata": {},
   "outputs": [
    {
     "data": {
      "text/plain": [
       "(134173809453504, 134173809453504)"
      ]
     },
     "execution_count": 23,
     "metadata": {},
     "output_type": "execute_result"
    }
   ],
   "source": [
    "id(o), id(l)"
   ]
  },
  {
   "cell_type": "code",
   "execution_count": null,
   "id": "a8050a84",
   "metadata": {},
   "outputs": [],
   "source": [
    "l.append(9)"
   ]
  },
  {
   "cell_type": "code",
   "execution_count": null,
   "id": "ae37b251",
   "metadata": {},
   "outputs": [],
   "source": [
    "l, o"
   ]
  },
  {
   "cell_type": "markdown",
   "id": "d2b0932d",
   "metadata": {},
   "source": [
    "You can call the object constructor to **make a shallow copy at assignment**:"
   ]
  },
  {
   "cell_type": "code",
   "execution_count": 27,
   "id": "3f135674",
   "metadata": {},
   "outputs": [],
   "source": [
    "o = list(l)"
   ]
  },
  {
   "cell_type": "code",
   "execution_count": 28,
   "id": "8fefb87c",
   "metadata": {},
   "outputs": [
    {
     "data": {
      "text/plain": [
       "True"
      ]
     },
     "execution_count": 28,
     "metadata": {},
     "output_type": "execute_result"
    }
   ],
   "source": [
    "o == l"
   ]
  },
  {
   "cell_type": "code",
   "execution_count": 29,
   "id": "db60de14",
   "metadata": {},
   "outputs": [
    {
     "data": {
      "text/plain": [
       "False"
      ]
     },
     "execution_count": 29,
     "metadata": {},
     "output_type": "execute_result"
    }
   ],
   "source": [
    "o is l"
   ]
  },
  {
   "cell_type": "code",
   "execution_count": 30,
   "id": "196edba1",
   "metadata": {},
   "outputs": [
    {
     "name": "stdout",
     "output_type": "stream",
     "text": [
      "[1, 2, [4, 5, 6], 8, 9]\n",
      "[1, 2, [4, 5, 6], 8]\n"
     ]
    }
   ],
   "source": [
    "l.append(9)\n",
    "print(l)\n",
    "print(o)"
   ]
  },
  {
   "cell_type": "code",
   "execution_count": 31,
   "id": "05816289",
   "metadata": {},
   "outputs": [
    {
     "name": "stdout",
     "output_type": "stream",
     "text": [
      "[1, 2, [4, 5, 6, 7], 8, 9]\n",
      "[1, 2, [4, 5, 6, 7], 8]\n"
     ]
    }
   ],
   "source": [
    "l[2].append(7)\n",
    "print(l)\n",
    "print(o)"
   ]
  },
  {
   "cell_type": "markdown",
   "id": "b1967f9f",
   "metadata": {},
   "source": [
    "You can otherwise import the ``copy`` module and use the functions ``copy`` and ``deepcopy``"
   ]
  },
  {
   "cell_type": "code",
   "execution_count": 32,
   "id": "ddf5e4df",
   "metadata": {},
   "outputs": [],
   "source": [
    "import copy"
   ]
  },
  {
   "cell_type": "code",
   "execution_count": 33,
   "id": "1d516cf0",
   "metadata": {},
   "outputs": [
    {
     "name": "stdout",
     "output_type": "stream",
     "text": [
      "[1, 2, [4, 5, 6, 7, 888], 8, 9]\n",
      "[1, 2, [4, 5, 6, 7, 888], 8, 9]\n"
     ]
    }
   ],
   "source": [
    "o = copy.copy(l)\n",
    "l[2].append(888)\n",
    "print(l)\n",
    "print(o)"
   ]
  },
  {
   "cell_type": "markdown",
   "id": "4658d500",
   "metadata": {},
   "source": [
    "This is equivalent to \n",
    "\n",
    "```python\n",
    "o = list(l)\n",
    "```\n",
    "\n",
    "while this:"
   ]
  },
  {
   "cell_type": "code",
   "execution_count": 34,
   "id": "85169817",
   "metadata": {},
   "outputs": [
    {
     "name": "stdout",
     "output_type": "stream",
     "text": [
      "[1, 2, [4, 5, 6, 7, 888, 3333], 8, 9]\n",
      "[1, 2, [4, 5, 6, 7, 888], 8, 9]\n"
     ]
    }
   ],
   "source": [
    "o = copy.deepcopy(l)\n",
    "l[2].append(3333)\n",
    "print(l)\n",
    "print(o)"
   ]
  },
  {
   "cell_type": "markdown",
   "id": "5685a678",
   "metadata": {},
   "source": [
    "is the most practical way to make a **deep copy**.\n",
    "\n",
    "It is equivalent to\n",
    "\n",
    "```python\n",
    "o = [ type(v)(v) for v in l ]\n",
    "```"
   ]
  },
  {
   "cell_type": "code",
   "execution_count": 38,
   "id": "b330a033-4e14-4aeb-bbc4-6f2c464eb986",
   "metadata": {},
   "outputs": [
    {
     "name": "stdout",
     "output_type": "stream",
     "text": [
      "Help on function copy in module copy:\n",
      "\n",
      "copy(x)\n",
      "    Shallow copy operation on arbitrary Python objects.\n",
      "\n",
      "    See the module's __doc__ string for more info.\n",
      "\n"
     ]
    }
   ],
   "source": [
    "help(copy.copy)"
   ]
  },
  {
   "cell_type": "code",
   "execution_count": 39,
   "id": "767775bd-d6f1-4c68-8b25-bceadb0cf562",
   "metadata": {},
   "outputs": [
    {
     "name": "stdout",
     "output_type": "stream",
     "text": [
      "Help on function deepcopy in module copy:\n",
      "\n",
      "deepcopy(x, memo=None, _nil=[])\n",
      "    Deep copy operation on arbitrary Python objects.\n",
      "\n",
      "    See the module's __doc__ string for more info.\n",
      "\n"
     ]
    }
   ],
   "source": [
    "help(copy.deepcopy)"
   ]
  },
  {
   "cell_type": "code",
   "execution_count": null,
   "id": "f8f2bd8c-b8e9-43ba-aaa3-f3451a3a1852",
   "metadata": {},
   "outputs": [],
   "source": []
  }
 ],
 "metadata": {
  "kernelspec": {
   "display_name": "Python 3 (ipykernel)",
   "language": "python",
   "name": "python3"
  },
  "language_info": {
   "codemirror_mode": {
    "name": "ipython",
    "version": 3
   },
   "file_extension": ".py",
   "mimetype": "text/x-python",
   "name": "python",
   "nbconvert_exporter": "python",
   "pygments_lexer": "ipython3",
   "version": "3.13.2"
  }
 },
 "nbformat": 4,
 "nbformat_minor": 5
}
