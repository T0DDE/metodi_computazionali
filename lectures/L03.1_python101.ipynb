{
 "cells": [
  {
   "cell_type": "markdown",
   "id": "31b22581",
   "metadata": {},
   "source": [
    "# Section 0 - Python Basics"
   ]
  },
  {
   "cell_type": "markdown",
   "id": "00d75471",
   "metadata": {},
   "source": [
    "## Jupyter notebook intro\n",
    "\n",
    "* this document is a jupyter notebook\n",
    "* flexible tool to create readable documents that embeds:\n",
    "    * code\n",
    "    * images\n",
    "    * comments\n",
    "    * formulas\n",
    "    * plots\n",
    "* jupyter supports notebooks form many different languages (including python, julia and R) \n",
    "* each document runs a computational engine that executes the code written in the cells"
   ]
  },
  {
   "cell_type": "markdown",
   "id": "92bda2c5",
   "metadata": {},
   "source": [
    "> <mark>To get some help, press ``H`` when in **COMMAND MODE**</mark>"
   ]
  },
  {
   "cell_type": "markdown",
   "id": "d778d11f",
   "metadata": {},
   "source": [
    "Built-in magic commands in jupyter\n",
    "\n",
    "    jupyter embeds special commands (called magics) that enables to run different kind of code.\n",
    "        magic inline commands start with \"%\"\n",
    "        magic multiple line commands start with \"%%\"\n",
    "        you can list magic commands running %lsmagic\n",
    "        you can pop-up the magic command documentation (if any) adding \"?\" after the command with no space\n",
    "    few magics you might find useful:\n",
    "        ! runs inline shell commands\n",
    "        %%bash to run bash program (same syntax for other languages)\n",
    "        embed latex inline between $$\n",
    "        %%latex to render a latex block\n",
    "        ...\n",
    "        %reset to remove all names defined by the user\n"
   ]
  },
  {
   "cell_type": "code",
   "execution_count": 1,
   "id": "223338cc",
   "metadata": {},
   "outputs": [
    {
     "data": {
      "application/json": {
       "cell": {
        "!": "OSMagics",
        "HTML": "Other",
        "SVG": "Other",
        "bash": "Other",
        "capture": "ExecutionMagics",
        "code_wrap": "ExecutionMagics",
        "debug": "ExecutionMagics",
        "file": "Other",
        "html": "DisplayMagics",
        "javascript": "DisplayMagics",
        "js": "DisplayMagics",
        "latex": "DisplayMagics",
        "markdown": "DisplayMagics",
        "perl": "Other",
        "prun": "ExecutionMagics",
        "pypy": "Other",
        "python": "Other",
        "python2": "Other",
        "python3": "Other",
        "ruby": "Other",
        "script": "ScriptMagics",
        "sh": "Other",
        "svg": "DisplayMagics",
        "sx": "OSMagics",
        "system": "OSMagics",
        "time": "ExecutionMagics",
        "timeit": "ExecutionMagics",
        "writefile": "OSMagics"
       },
       "line": {
        "alias": "OSMagics",
        "alias_magic": "BasicMagics",
        "autoawait": "AsyncMagics",
        "autocall": "AutoMagics",
        "automagic": "AutoMagics",
        "autosave": "KernelMagics",
        "bookmark": "OSMagics",
        "cat": "Other",
        "cd": "OSMagics",
        "clear": "KernelMagics",
        "code_wrap": "ExecutionMagics",
        "colors": "BasicMagics",
        "conda": "PackagingMagics",
        "config": "ConfigMagics",
        "connect_info": "KernelMagics",
        "cp": "Other",
        "debug": "ExecutionMagics",
        "dhist": "OSMagics",
        "dirs": "OSMagics",
        "doctest_mode": "BasicMagics",
        "ed": "Other",
        "edit": "KernelMagics",
        "env": "OSMagics",
        "gui": "BasicMagics",
        "hist": "Other",
        "history": "HistoryMagics",
        "killbgscripts": "ScriptMagics",
        "ldir": "Other",
        "less": "KernelMagics",
        "lf": "Other",
        "lk": "Other",
        "ll": "Other",
        "load": "CodeMagics",
        "load_ext": "ExtensionMagics",
        "loadpy": "CodeMagics",
        "logoff": "LoggingMagics",
        "logon": "LoggingMagics",
        "logstart": "LoggingMagics",
        "logstate": "LoggingMagics",
        "logstop": "LoggingMagics",
        "ls": "Other",
        "lsmagic": "BasicMagics",
        "lx": "Other",
        "macro": "ExecutionMagics",
        "magic": "BasicMagics",
        "mamba": "PackagingMagics",
        "man": "KernelMagics",
        "matplotlib": "PylabMagics",
        "micromamba": "PackagingMagics",
        "mkdir": "Other",
        "more": "KernelMagics",
        "mv": "Other",
        "notebook": "BasicMagics",
        "page": "BasicMagics",
        "pastebin": "CodeMagics",
        "pdb": "ExecutionMagics",
        "pdef": "NamespaceMagics",
        "pdoc": "NamespaceMagics",
        "pfile": "NamespaceMagics",
        "pinfo": "NamespaceMagics",
        "pinfo2": "NamespaceMagics",
        "pip": "PackagingMagics",
        "popd": "OSMagics",
        "pprint": "BasicMagics",
        "precision": "BasicMagics",
        "prun": "ExecutionMagics",
        "psearch": "NamespaceMagics",
        "psource": "NamespaceMagics",
        "pushd": "OSMagics",
        "pwd": "OSMagics",
        "pycat": "OSMagics",
        "pylab": "PylabMagics",
        "qtconsole": "KernelMagics",
        "quickref": "BasicMagics",
        "recall": "HistoryMagics",
        "rehashx": "OSMagics",
        "reload_ext": "ExtensionMagics",
        "rep": "Other",
        "rerun": "HistoryMagics",
        "reset": "NamespaceMagics",
        "reset_selective": "NamespaceMagics",
        "rm": "Other",
        "rmdir": "Other",
        "run": "ExecutionMagics",
        "save": "CodeMagics",
        "sc": "OSMagics",
        "set_env": "OSMagics",
        "store": "StoreMagics",
        "sx": "OSMagics",
        "system": "OSMagics",
        "tb": "ExecutionMagics",
        "time": "ExecutionMagics",
        "timeit": "ExecutionMagics",
        "unalias": "OSMagics",
        "unload_ext": "ExtensionMagics",
        "uv": "PackagingMagics",
        "who": "NamespaceMagics",
        "who_ls": "NamespaceMagics",
        "whos": "NamespaceMagics",
        "xdel": "NamespaceMagics",
        "xmode": "BasicMagics"
       }
      },
      "text/plain": [
       "Available line magics:\n",
       "%alias  %alias_magic  %autoawait  %autocall  %automagic  %autosave  %bookmark  %cat  %cd  %clear  %code_wrap  %colors  %conda  %config  %connect_info  %cp  %debug  %dhist  %dirs  %doctest_mode  %ed  %edit  %env  %gui  %hist  %history  %killbgscripts  %ldir  %less  %lf  %lk  %ll  %load  %load_ext  %loadpy  %logoff  %logon  %logstart  %logstate  %logstop  %ls  %lsmagic  %lx  %macro  %magic  %mamba  %man  %matplotlib  %micromamba  %mkdir  %more  %mv  %notebook  %page  %pastebin  %pdb  %pdef  %pdoc  %pfile  %pinfo  %pinfo2  %pip  %popd  %pprint  %precision  %prun  %psearch  %psource  %pushd  %pwd  %pycat  %pylab  %qtconsole  %quickref  %recall  %rehashx  %reload_ext  %rep  %rerun  %reset  %reset_selective  %rm  %rmdir  %run  %save  %sc  %set_env  %store  %sx  %system  %tb  %time  %timeit  %unalias  %unload_ext  %uv  %who  %who_ls  %whos  %xdel  %xmode\n",
       "\n",
       "Available cell magics:\n",
       "%%!  %%HTML  %%SVG  %%bash  %%capture  %%code_wrap  %%debug  %%file  %%html  %%javascript  %%js  %%latex  %%markdown  %%perl  %%prun  %%pypy  %%python  %%python2  %%python3  %%ruby  %%script  %%sh  %%svg  %%sx  %%system  %%time  %%timeit  %%writefile\n",
       "\n",
       "Automagic is ON, % prefix IS NOT needed for line magics."
      ]
     },
     "execution_count": 1,
     "metadata": {},
     "output_type": "execute_result"
    }
   ],
   "source": [
    "%lsmagic"
   ]
  },
  {
   "cell_type": "code",
   "execution_count": 2,
   "id": "ec603026",
   "metadata": {},
   "outputs": [
    {
     "name": "stdout",
     "output_type": "stream",
     "text": [
      "ls: impossibile accedere a '../exercise1_bash/': File o directory non esistente\n"
     ]
    }
   ],
   "source": [
    "!ls -lrth ../hands-on/exercise1_bash/"
   ]
  },
  {
   "cell_type": "code",
   "execution_count": 3,
   "id": "ebd87dd4-460c-48f9-b1bd-7e2c7c613322",
   "metadata": {},
   "outputs": [
    {
     "name": "stdout",
     "output_type": "stream",
     "text": [
      "totale 1,9M\n",
      "-rw-rw-r-- 1 gabri gabri 889K 28 mar 17.29 L01_terminal+bash.pdf\n",
      "-rw-rw-r-- 1 gabri gabri 463K 28 mar 17.29 L02_git+github.pdf\n",
      "-rw-rw-r-- 1 gabri gabri 383K 28 mar 17.29 L03.0_python101.pdf\n",
      "-rw-rw-r-- 1 gabri gabri  30K 28 mar 17.29 L04.2_Containers.ipynb\n",
      "-rw-rw-r-- 1 gabri gabri 8,0K 28 mar 17.29 L05.1_ControlSequences.ipynb\n",
      "-rw-rw-r-- 1 gabri gabri  14K 28 mar 17.29 L05.2_Functions.ipynb\n",
      "-rw-rw-r-- 1 gabri gabri 6,6K 28 mar 17.29 L06.1_againOnVariables.ipynb\n",
      "-rw-rw-r-- 1 gabri gabri 8,2K 28 mar 17.29 L06.2_ModulesPackagesAndScripts.ipynb\n",
      "-rw-rw-r-- 1 gabri gabri  13K 28 mar 17.29 L06.3_Classes.ipynb\n",
      "-rw-rw-r-- 1 gabri gabri  28K 28 mar 17.29 L07.1_NumPy.ipynb\n",
      "-rw-rw-r-- 1 gabri gabri   64 28 mar 17.29 my_module.py\n",
      "drwxrwxr-x 1 gabri gabri    0 28 mar 17.29 my_package\n",
      "-rw-rw-r-- 1 gabri gabri  12K  1 apr 18.27 L04.1_Variables.ipynb\n",
      "-rw-rw-r-- 1 gabri gabri  33K  2 apr 09.59 L03.1_python101.ipynb\n"
     ]
    }
   ],
   "source": [
    "!ls -lrth"
   ]
  },
  {
   "cell_type": "code",
   "execution_count": 6,
   "id": "3f689373",
   "metadata": {},
   "outputs": [
    {
     "name": "stdout",
     "output_type": "stream",
     "text": [
      "L01_terminal+bash  L02_git+github  L03  L03  L04  L04  L05  L05  L06  L06  L06  L07  my_module  my_package  "
     ]
    }
   ],
   "source": [
    "%%bash \n",
    "for i in $(ls ../hands-on/exercise1_bash/bandpasses)\n",
    "do \n",
    "    arr=($(echo $i | tr '.' ' '))\n",
    "    echo -n ${arr[0]} ' '\n",
    "done"
   ]
  },
  {
   "cell_type": "code",
   "execution_count": 4,
   "id": "2ced64a2",
   "metadata": {},
   "outputs": [
    {
     "name": "stdout",
     "output_type": "stream",
     "text": [
      "ls: impossibile accedere a '../exercise1_bash/bandpasses': File o directory non esistente\n"
     ]
    }
   ],
   "source": [
    "!ls  ../hands-on/exercise1_bash/bandpasses | grep ALMA"
   ]
  },
  {
   "cell_type": "code",
   "execution_count": 7,
   "id": "8cf6d53c-bcf9-441f-a043-d00042ff19b5",
   "metadata": {},
   "outputs": [
    {
     "ename": "SyntaxError",
     "evalue": "invalid syntax (316047315.py, line 3)",
     "output_type": "error",
     "traceback": [
      "  \u001b[36mCell\u001b[39m\u001b[36m \u001b[39m\u001b[32mIn[7]\u001b[39m\u001b[32m, line 3\u001b[39m\n\u001b[31m    \u001b[39m\u001b[31m* Compile source to bytecode then execute it on a virtual machine\u001b[39m\n              ^\n\u001b[31mSyntaxError\u001b[39m\u001b[31m:\u001b[39m invalid syntax\n"
     ]
    }
   ],
   "source": [
    "## The interpreter\n",
    "\n",
    "* Compile source to bytecode then execute it on a virtual machine \n",
    "* Survives any execution error, even in case of syntax errors\n",
    "    * in python also indentation is syntax\n",
    "    ```python\n",
    "    # this:\n",
    "    if False :\n",
    "        print('hello')\n",
    "        print('world')\n",
    "    # is different from this:\n",
    "    if False :\n",
    "        print('hello')\n",
    "    print('world')\n",
    "    ```\n",
    "* an *expression* is code that returns an object \n",
    "* if no error, the prompt (``>>>``) automatically: \n",
    "    1. prints the result on screen\n",
    "    2. assigns the result to \"_\""
   ]
  },
  {
   "cell_type": "code",
   "execution_count": 8,
   "id": "65319a5b",
   "metadata": {},
   "outputs": [
    {
     "data": {
      "text/plain": [
       "12345"
      ]
     },
     "execution_count": 8,
     "metadata": {},
     "output_type": "execute_result"
    }
   ],
   "source": [
    "# expression that returns something\n",
    "12345"
   ]
  },
  {
   "cell_type": "code",
   "execution_count": 9,
   "id": "8be1a9c2",
   "metadata": {},
   "outputs": [
    {
     "data": {
      "text/plain": [
       "12345"
      ]
     },
     "execution_count": 9,
     "metadata": {},
     "output_type": "execute_result"
    }
   ],
   "source": [
    "# that something was assigned to \"_\"\n",
    "_"
   ]
  },
  {
   "cell_type": "code",
   "execution_count": 10,
   "id": "320e4630",
   "metadata": {},
   "outputs": [
    {
     "ename": "ZeroDivisionError",
     "evalue": "division by zero",
     "output_type": "error",
     "traceback": [
      "\u001b[31m---------------------------------------------------------------------------\u001b[39m",
      "\u001b[31mZeroDivisionError\u001b[39m                         Traceback (most recent call last)",
      "\u001b[36mCell\u001b[39m\u001b[36m \u001b[39m\u001b[32mIn[10]\u001b[39m\u001b[32m, line 2\u001b[39m\n\u001b[32m      1\u001b[39m \u001b[38;5;66;03m# Error example: division by 0\u001b[39;00m\n\u001b[32m----> \u001b[39m\u001b[32m2\u001b[39m \u001b[32;43m1\u001b[39;49m\u001b[43m/\u001b[49m\u001b[32;43m0\u001b[39;49m\n",
      "\u001b[31mZeroDivisionError\u001b[39m: division by zero"
     ]
    }
   ],
   "source": [
    "# Error example: division by 0\n",
    "1/0"
   ]
  },
  {
   "cell_type": "code",
   "execution_count": 11,
   "id": "5a2b4dbe",
   "metadata": {},
   "outputs": [],
   "source": [
    "print = 7"
   ]
  },
  {
   "cell_type": "markdown",
   "id": "86f3b9ab",
   "metadata": {},
   "source": [
    "Print is a function, but you can assign it a value! **Congrats** you succesfully overwritten a function with an integer: now your function does not work anymore:"
   ]
  },
  {
   "cell_type": "code",
   "execution_count": 12,
   "id": "bbaf1ddd",
   "metadata": {},
   "outputs": [
    {
     "ename": "TypeError",
     "evalue": "'int' object is not callable",
     "output_type": "error",
     "traceback": [
      "\u001b[31m---------------------------------------------------------------------------\u001b[39m",
      "\u001b[31mTypeError\u001b[39m                                 Traceback (most recent call last)",
      "\u001b[36mCell\u001b[39m\u001b[36m \u001b[39m\u001b[32mIn[12]\u001b[39m\u001b[32m, line 1\u001b[39m\n\u001b[32m----> \u001b[39m\u001b[32m1\u001b[39m \u001b[38;5;28;43mprint\u001b[39;49m\u001b[43m(\u001b[49m\u001b[33;43m\"\u001b[39;49m\u001b[33;43mhello world\u001b[39;49m\u001b[33;43m\"\u001b[39;49m\u001b[43m)\u001b[49m\n",
      "\u001b[31mTypeError\u001b[39m: 'int' object is not callable"
     ]
    }
   ],
   "source": [
    "print(\"hello world\")"
   ]
  },
  {
   "cell_type": "markdown",
   "id": "9e2f6e1d",
   "metadata": {},
   "source": [
    "This magic command (`%reset`) clears everything, it will ask you if your sure about your decision.\n",
    "(kinda equivalent to *restart kernel*)"
   ]
  },
  {
   "cell_type": "code",
   "execution_count": 13,
   "id": "9024b127",
   "metadata": {},
   "outputs": [
    {
     "name": "stdin",
     "output_type": "stream",
     "text": [
      "Once deleted, variables cannot be recovered. Proceed (y/[n])?  y\n"
     ]
    },
    {
     "name": "stdout",
     "output_type": "stream",
     "text": [
      "hello world\n"
     ]
    }
   ],
   "source": [
    "%reset\n",
    "print(\"hello world\")"
   ]
  },
  {
   "cell_type": "code",
   "execution_count": 14,
   "id": "ae30a1a7",
   "metadata": {},
   "outputs": [
    {
     "name": "stdout",
     "output_type": "stream",
     "text": [
      "42\n"
     ]
    }
   ],
   "source": [
    "print(42)"
   ]
  },
  {
   "cell_type": "markdown",
   "id": "5567532e",
   "metadata": {},
   "source": [
    "## Programming in Python\n",
    "\n",
    "  * A **computer program** is a set of instructions meant to guide the computer hardware\n",
    "    in doing calculations, by using the computing processing unit (CPU)\n",
    "    and the memory\n",
    "  * A program is structured accoding to **rules dictated by the programming language**\n",
    "  * In this brief introduction we will see the **main elements** to be used to build a Python program\n",
    "  \n",
    "  | Main elements:        ||\n",
    "  |-----------------------|------------------------------------------------------------------------|\n",
    "  | **variables**         | write information into the computer memory and read it back            |\n",
    "  | **functions**         | groups of sequences of elementary instructions into a repeatable block |\n",
    "  | **control sequences** | fundamental structures to handle sequences of elementary instructions (choices, iterations) |\n",
    "  | **modules**           | libraries of fully-developed tools to implement specific behaviours    |\n",
    "  | **classes** | definition of a type and its methods |\n",
    "  "
   ]
  },
  {
   "cell_type": "markdown",
   "id": "29850b83",
   "metadata": {},
   "source": [
    "## Variables\n",
    "\n",
    "Information needs to be **handled according to its nature**, in terms of occupied memory space and elementary operations\n",
    "    \n",
    "| Variable Type | Usage |\n",
    "|---------------|-------|\n",
    "| integer | ``a = 42`` |\n",
    "| floating point | ``a = 3.14`` |\n",
    "| complex | ``a = 3 + 2j`` |\n",
    "| boolean | ``a = True`` |\n",
    "| string | ``a = 'filename.txt'`` |\n",
    "| ``None`` | whenever the object is not defined |\n",
    "    \n",
    "    \n",
    "> **NOTE** For a detailed list and description of built-in Python types see the [official Python documentation](https://docs.python.org/3/library/stdtypes.html#)\n",
    "\n",
    "\n",
    "> **SECOND NOTE** Python is **not statically typed**: variables do not need to be declared before use, nor their type to be declared, but you can use the [`type`](https://docs.python.org/3/library/functions.html#type) built-in function to know what is the current type of the object"
   ]
  },
  {
   "cell_type": "code",
   "execution_count": 16,
   "id": "068d8388",
   "metadata": {},
   "outputs": [],
   "source": [
    "a=42"
   ]
  },
  {
   "cell_type": "markdown",
   "id": "2e2f8e58",
   "metadata": {},
   "source": [
    "## Survival kit\n",
    " - `print`\n",
    " - `type`\n",
    " - `help`\n",
    " - `dir`"
   ]
  },
  {
   "cell_type": "code",
   "execution_count": 17,
   "id": "d1bbbedc",
   "metadata": {},
   "outputs": [
    {
     "name": "stdout",
     "output_type": "stream",
     "text": [
      "hello world\n"
     ]
    }
   ],
   "source": [
    "print(\"hello\", \"world\")"
   ]
  },
  {
   "cell_type": "markdown",
   "id": "017dc959",
   "metadata": {},
   "source": [
    "A **variable** is just a **reference** to an object, what object? find out with command `type`:"
   ]
  },
  {
   "cell_type": "code",
   "execution_count": 18,
   "id": "64930a25",
   "metadata": {},
   "outputs": [
    {
     "name": "stdout",
     "output_type": "stream",
     "text": [
      "<class 'str'>\n",
      "<class 'int'>\n",
      "<class 'bool'>\n"
     ]
    }
   ],
   "source": [
    "print(type(\"hello\"))\n",
    "print(type(1))\n",
    "print(type(True))"
   ]
  },
  {
   "cell_type": "markdown",
   "id": "10d38410",
   "metadata": {},
   "source": [
    "What's the type of `type`?"
   ]
  },
  {
   "cell_type": "code",
   "execution_count": 19,
   "id": "9956e647",
   "metadata": {},
   "outputs": [
    {
     "name": "stdout",
     "output_type": "stream",
     "text": [
      "<class 'type'>\n"
     ]
    }
   ],
   "source": [
    "print(type(type))"
   ]
  },
  {
   "cell_type": "markdown",
   "id": "ffd2850d",
   "metadata": {},
   "source": [
    "<mark>**Dunder methods**</mark> are **magic methods** of a certain class that are defined with a **double underscore**, you can see them in the class documentation of a certain object:"
   ]
  },
  {
   "cell_type": "code",
   "execution_count": 20,
   "id": "092c2473",
<<<<<<< HEAD
   "metadata": {},
   "outputs": [
    {
     "name": "stdout",
     "output_type": "stream",
     "text": [
      "Help on int object:\n",
      "\n",
      "class int(object)\n",
      " |  int([x]) -> integer\n",
      " |  int(x, base=10) -> integer\n",
      " |\n",
      " |  Convert a number or string to an integer, or return 0 if no arguments\n",
      " |  are given.  If x is a number, return x.__int__().  For floating-point\n",
      " |  numbers, this truncates towards zero.\n",
      " |\n",
      " |  If x is not a number or if base is given, then x must be a string,\n",
      " |  bytes, or bytearray instance representing an integer literal in the\n",
      " |  given base.  The literal can be preceded by '+' or '-' and be surrounded\n",
      " |  by whitespace.  The base defaults to 10.  Valid bases are 0 and 2-36.\n",
      " |  Base 0 means to interpret the base from the string as an integer literal.\n",
      " |  >>> int('0b100', base=0)\n",
      " |  4\n",
      " |\n",
      " |  Built-in subclasses:\n",
      " |      bool\n",
      " |\n",
      " |  Methods defined here:\n",
      " |\n",
      " |  __abs__(self, /)\n",
      " |      abs(self)\n",
      " |\n",
      " |  __add__(self, value, /)\n",
      " |      Return self+value.\n",
      " |\n",
      " |  __and__(self, value, /)\n",
      " |      Return self&value.\n",
      " |\n",
      " |  __bool__(self, /)\n",
      " |      True if self else False\n",
      " |\n",
      " |  __ceil__(self, /)\n",
      " |      Ceiling of an Integral returns itself.\n",
      " |\n",
      " |  __divmod__(self, value, /)\n",
      " |      Return divmod(self, value).\n",
      " |\n",
      " |  __eq__(self, value, /)\n",
      " |      Return self==value.\n",
      " |\n",
      " |  __float__(self, /)\n",
      " |      float(self)\n",
      " |\n",
      " |  __floor__(self, /)\n",
      " |      Flooring an Integral returns itself.\n",
      " |\n",
      " |  __floordiv__(self, value, /)\n",
      " |      Return self//value.\n",
      " |\n",
      " |  __format__(self, format_spec, /)\n",
      " |      Convert to a string according to format_spec.\n",
      " |\n",
      " |  __ge__(self, value, /)\n",
      " |      Return self>=value.\n",
      " |\n",
      " |  __getattribute__(self, name, /)\n",
      " |      Return getattr(self, name).\n",
      " |\n",
      " |  __getnewargs__(self, /)\n",
      " |\n",
      " |  __gt__(self, value, /)\n",
      " |      Return self>value.\n",
      " |\n",
      " |  __hash__(self, /)\n",
      " |      Return hash(self).\n",
      " |\n",
      " |  __index__(self, /)\n",
      " |      Return self converted to an integer, if self is suitable for use as an index into a list.\n",
      " |\n",
      " |  __int__(self, /)\n",
      " |      int(self)\n",
      " |\n",
      " |  __invert__(self, /)\n",
      " |      ~self\n",
      " |\n",
      " |  __le__(self, value, /)\n",
      " |      Return self<=value.\n",
      " |\n",
      " |  __lshift__(self, value, /)\n",
      " |      Return self<<value.\n",
      " |\n",
      " |  __lt__(self, value, /)\n",
      " |      Return self<value.\n",
      " |\n",
      " |  __mod__(self, value, /)\n",
      " |      Return self%value.\n",
      " |\n",
      " |  __mul__(self, value, /)\n",
      " |      Return self*value.\n",
      " |\n",
      " |  __ne__(self, value, /)\n",
      " |      Return self!=value.\n",
      " |\n",
      " |  __neg__(self, /)\n",
      " |      -self\n",
      " |\n",
      " |  __or__(self, value, /)\n",
      " |      Return self|value.\n",
      " |\n",
      " |  __pos__(self, /)\n",
      " |      +self\n",
      " |\n",
      " |  __pow__(self, value, mod=None, /)\n",
      " |      Return pow(self, value, mod).\n",
      " |\n",
      " |  __radd__(self, value, /)\n",
      " |      Return value+self.\n",
      " |\n",
      " |  __rand__(self, value, /)\n",
      " |      Return value&self.\n",
      " |\n",
      " |  __rdivmod__(self, value, /)\n",
      " |      Return divmod(value, self).\n",
      " |\n",
      " |  __repr__(self, /)\n",
      " |      Return repr(self).\n",
      " |\n",
      " |  __rfloordiv__(self, value, /)\n",
      " |      Return value//self.\n",
      " |\n",
      " |  __rlshift__(self, value, /)\n",
      " |      Return value<<self.\n",
      " |\n",
      " |  __rmod__(self, value, /)\n",
      " |      Return value%self.\n",
      " |\n",
      " |  __rmul__(self, value, /)\n",
      " |      Return value*self.\n",
      " |\n",
      " |  __ror__(self, value, /)\n",
      " |      Return value|self.\n",
      " |\n",
      " |  __round__(self, ndigits=<unrepresentable>, /)\n",
      " |      Rounding an Integral returns itself.\n",
      " |\n",
      " |      Rounding with an ndigits argument also returns an integer.\n",
      " |\n",
      " |  __rpow__(self, value, mod=None, /)\n",
      " |      Return pow(value, self, mod).\n",
      " |\n",
      " |  __rrshift__(self, value, /)\n",
      " |      Return value>>self.\n",
      " |\n",
      " |  __rshift__(self, value, /)\n",
      " |      Return self>>value.\n",
      " |\n",
      " |  __rsub__(self, value, /)\n",
      " |      Return value-self.\n",
      " |\n",
      " |  __rtruediv__(self, value, /)\n",
      " |      Return value/self.\n",
      " |\n",
      " |  __rxor__(self, value, /)\n",
      " |      Return value^self.\n",
      " |\n",
      " |  __sizeof__(self, /)\n",
      " |      Returns size in memory, in bytes.\n",
      " |\n",
      " |  __sub__(self, value, /)\n",
      " |      Return self-value.\n",
      " |\n",
      " |  __truediv__(self, value, /)\n",
      " |      Return self/value.\n",
      " |\n",
      " |  __trunc__(self, /)\n",
      " |      Truncating an Integral returns itself.\n",
      " |\n",
      " |  __xor__(self, value, /)\n",
      " |      Return self^value.\n",
      " |\n",
      " |  as_integer_ratio(self, /)\n",
      " |      Return a pair of integers, whose ratio is equal to the original int.\n",
      " |\n",
      " |      The ratio is in lowest terms and has a positive denominator.\n",
      " |\n",
      " |      >>> (10).as_integer_ratio()\n",
      " |      (10, 1)\n",
      " |      >>> (-10).as_integer_ratio()\n",
      " |      (-10, 1)\n",
      " |      >>> (0).as_integer_ratio()\n",
      " |      (0, 1)\n",
      " |\n",
      " |  bit_count(self, /)\n",
      " |      Number of ones in the binary representation of the absolute value of self.\n",
      " |\n",
      " |      Also known as the population count.\n",
      " |\n",
      " |      >>> bin(13)\n",
      " |      '0b1101'\n",
      " |      >>> (13).bit_count()\n",
      " |      3\n",
      " |\n",
      " |  bit_length(self, /)\n",
      " |      Number of bits necessary to represent self in binary.\n",
      " |\n",
      " |      >>> bin(37)\n",
      " |      '0b100101'\n",
      " |      >>> (37).bit_length()\n",
      " |      6\n",
      " |\n",
      " |  conjugate(self, /)\n",
      " |      Returns self, the complex conjugate of any int.\n",
      " |\n",
      " |  is_integer(self, /)\n",
      " |      Returns True. Exists for duck type compatibility with float.is_integer.\n",
      " |\n",
      " |  to_bytes(self, /, length=1, byteorder='big', *, signed=False)\n",
      " |      Return an array of bytes representing an integer.\n",
      " |\n",
      " |      length\n",
      " |        Length of bytes object to use.  An OverflowError is raised if the\n",
      " |        integer is not representable with the given number of bytes.  Default\n",
      " |        is length 1.\n",
      " |      byteorder\n",
      " |        The byte order used to represent the integer.  If byteorder is 'big',\n",
      " |        the most significant byte is at the beginning of the byte array.  If\n",
      " |        byteorder is 'little', the most significant byte is at the end of the\n",
      " |        byte array.  To request the native byte order of the host system, use\n",
      " |        sys.byteorder as the byte order value.  Default is to use 'big'.\n",
      " |      signed\n",
      " |        Determines whether two's complement is used to represent the integer.\n",
      " |        If signed is False and a negative integer is given, an OverflowError\n",
      " |        is raised.\n",
      " |\n",
      " |  ----------------------------------------------------------------------\n",
      " |  Class methods defined here:\n",
      " |\n",
      " |  from_bytes(bytes, byteorder='big', *, signed=False)\n",
      " |      Return the integer represented by the given array of bytes.\n",
      " |\n",
      " |      bytes\n",
      " |        Holds the array of bytes to convert.  The argument must either\n",
      " |        support the buffer protocol or be an iterable object producing bytes.\n",
      " |        Bytes and bytearray are examples of built-in objects that support the\n",
      " |        buffer protocol.\n",
      " |      byteorder\n",
      " |        The byte order used to represent the integer.  If byteorder is 'big',\n",
      " |        the most significant byte is at the beginning of the byte array.  If\n",
      " |        byteorder is 'little', the most significant byte is at the end of the\n",
      " |        byte array.  To request the native byte order of the host system, use\n",
      " |        sys.byteorder as the byte order value.  Default is to use 'big'.\n",
      " |      signed\n",
      " |        Indicates whether two's complement is used to represent the integer.\n",
      " |\n",
      " |  ----------------------------------------------------------------------\n",
      " |  Static methods defined here:\n",
      " |\n",
      " |  __new__(*args, **kwargs)\n",
      " |      Create and return a new object.  See help(type) for accurate signature.\n",
      " |\n",
      " |  ----------------------------------------------------------------------\n",
      " |  Data descriptors defined here:\n",
      " |\n",
      " |  denominator\n",
      " |      the denominator of a rational number in lowest terms\n",
      " |\n",
      " |  imag\n",
      " |      the imaginary part of a complex number\n",
      " |\n",
      " |  numerator\n",
      " |      the numerator of a rational number in lowest terms\n",
      " |\n",
      " |  real\n",
      " |      the real part of a complex number\n",
      "\n"
     ]
    }
   ],
   "metadata": {
    "scrolled": false
   },
   "outputs": [],
   "source": [
    "help(1)"
   ]
  },
  {
   "cell_type": "code",
   "execution_count": 21,
   "id": "76dc4864",
   "metadata": {},
   "outputs": [
    {
     "name": "stdout",
     "output_type": "stream",
     "text": [
      "Help on method-wrapper:\n",
      "\n",
      "__gt__(value, /) unbound builtins.int method\n",
      "    Return self>value.\n",
      "\n"
     ]
    }
   ],
   "source": [
    "help(a.__gt__)"
   ]
  },
  {
   "cell_type": "code",
   "execution_count": 22,
   "execution_count": null,
   "id": "7b49d5ee",
   "metadata": {},
   "outputs": [],
   "source": [
    "3>4"
   ]
  },
  {
   "cell_type": "code",
   "execution_count": null,
   "id": "2afaf912",
   "metadata": {},
   "outputs": [
    {
     "name": "stdout",
     "output_type": "stream",
     "text": [
      "Help on NoneType object:\n",
      "\n",
      "class NoneType(object)\n",
      " |  The type of the None singleton.\n",
      " |\n",
      " |  Methods defined here:\n",
      " |\n",
      " |  __bool__(self, /)\n",
      " |      True if self else False\n",
      " |\n",
      " |  __eq__(self, value, /)\n",
      " |      Return self==value.\n",
      " |\n",
      " |  __ge__(self, value, /)\n",
      " |      Return self>=value.\n",
      " |\n",
      " |  __gt__(self, value, /)\n",
      " |      Return self>value.\n",
      " |\n",
      " |  __hash__(self, /)\n",
      " |      Return hash(self).\n",
      " |\n",
      " |  __le__(self, value, /)\n",
      " |      Return self<=value.\n",
      " |\n",
      " |  __lt__(self, value, /)\n",
      " |      Return self<value.\n",
      " |\n",
      " |  __ne__(self, value, /)\n",
      " |      Return self!=value.\n",
      " |\n",
      " |  __repr__(self, /)\n",
      " |      Return repr(self).\n",
      " |\n",
      " |  ----------------------------------------------------------------------\n",
      " |  Static methods defined here:\n",
      " |\n",
      " |  __new__(*args, **kwargs)\n",
      " |      Create and return a new object.  See help(type) for accurate signature.\n",
      "\n"
     ]
    }
   ],
   "source": [
    "help(None)"
   ]
  },
  {
   "cell_type": "markdown",
   "id": "aae884c5",
   "metadata": {},
   "source": [
    "`dir` will tell you all the symbols known by python up to that moment:"
   ]
  },
  {
   "cell_type": "code",
   "execution_count": 20,
   "id": "d1a81e9b",
   "metadata": {},
   "outputs": [
    {
     "name": "stdout",
     "output_type": "stream",
     "text": [
      "['BBBB', 'FFFF', 'IIII', 'In', 'Out', 'SSSS', '__builtin__', '__builtins__', '__name__', '_dh', '_i', '_i12', '_i13', '_i14', '_i15', '_i16', '_i17', '_i18', '_i19', '_i20', '_ih', '_ii', '_iii', '_oh', 'a', 'exit', 'get_ipython', 'open', 'quit']\n"
     ]
    }
   ],
   "source": [
    "IIII = 1\n",
    "FFFF = 3.3\n",
    "SSSS = 'cc'\n",
    "BBBB = False\n",
    "\n",
    "print(dir())"
   ]
  },
  {
   "cell_type": "markdown",
   "id": "0dddcd49",
   "metadata": {},
   "source": [
    "While if you ask the methods defined for a certain class (in this case an integer, `1`), just call `dir(class)`:"
   ]
  },
  {
   "cell_type": "code",
   "execution_count": 21,
   "id": "71eaed10",
   "metadata": {},
   "outputs": [
    {
     "name": "stdout",
     "output_type": "stream",
     "text": [
      "['__abs__', '__add__', '__and__', '__bool__', '__ceil__', '__class__', '__delattr__', '__dir__', '__divmod__', '__doc__', '__eq__', '__float__', '__floor__', '__floordiv__', '__format__', '__ge__', '__getattribute__', '__getnewargs__', '__getstate__', '__gt__', '__hash__', '__index__', '__init__', '__init_subclass__', '__int__', '__invert__', '__le__', '__lshift__', '__lt__', '__mod__', '__mul__', '__ne__', '__neg__', '__new__', '__or__', '__pos__', '__pow__', '__radd__', '__rand__', '__rdivmod__', '__reduce__', '__reduce_ex__', '__repr__', '__rfloordiv__', '__rlshift__', '__rmod__', '__rmul__', '__ror__', '__round__', '__rpow__', '__rrshift__', '__rshift__', '__rsub__', '__rtruediv__', '__rxor__', '__setattr__', '__sizeof__', '__str__', '__sub__', '__subclasshook__', '__truediv__', '__trunc__', '__xor__', 'as_integer_ratio', 'bit_count', 'bit_length', 'conjugate', 'denominator', 'from_bytes', 'imag', 'is_integer', 'numerator', 'real', 'to_bytes']\n"
     ]
    }
   ],
   "source": [
    "print(dir(1))"
   ]
  },
  {
   "cell_type": "code",
   "execution_count": null,
   "id": "1b0a3b43",
   "metadata": {},
   "outputs": [],
   "source": []
  }
 ],
 "metadata": {
  "kernelspec": {
   "display_name": "Python 3 (ipykernel)",
   "language": "python",
   "name": "python3"
  },
  "language_info": {
   "codemirror_mode": {
    "name": "ipython",
    "version": 3
   },
   "file_extension": ".py",
   "mimetype": "text/x-python",
   "name": "python",
   "nbconvert_exporter": "python",
   "pygments_lexer": "ipython3",
   "version": "3.13.2"
  }
 },
 "nbformat": 4,
 "nbformat_minor": 5
}
