{
 "cells": [
  {
   "cell_type": "markdown",
   "id": "631ade48",
   "metadata": {},
   "source": [
    "# Section 4 - Functions\n",
    "\n",
    "Functions are a set of grouped instructions which may be called together, that produce a given output or action\n",
    "\n",
    "* They are identified with a name and set of inputs\n",
    "* Functions are **FIRST-CLASS OBJECTS**, which means they can be\n",
    "    - created at runtime\n",
    "    - assigned to a variable or element in a data structure\n",
    "    - passed as an argument to a function\n",
    "    - returned as the result of a function\n",
    "* Functions have\n",
    "    - **POSITIONAL ARGUMENTS**, have to be provided in the right order, any starred and **ordered** iterable is OK.\n",
    "    - **KEYWORD ARGUMENTS**, are arguments **with a name** that identifies them. \n",
    "        Internally, keyword arguments are  treated as a dictionaries.\n",
    "\n",
    "A generic function, defined by the user will look something like this \n",
    "```python\n",
    "def function (*args, **kwargs) : # ** indica che quegli argomenti che verranno passati alle funzioni in qualche modo hanno a che fare con le tuple.\n",
    "    # do something with args\n",
    "    # do something with kwargs\n",
    "    # produce some result\n",
    "    return some_result\n",
    "```\n",
    "\n",
    "Main elements:\n",
    "\n",
    "- ``def`` tells the system what follows is a function definition\n",
    "- ``(*args, **kwargs)`` between parenteses the arguments of the function\n",
    "- ``:`` colon indicates where we start to define the behaviour\n",
    "- **indentated block** determines what is the function definition\n",
    "- (Optional) ``return`` values computed inside the function\n",
    "\n",
    "Let's make a function to check the behaviour of argumens:"
   ]
  },
  {
   "cell_type": "code",
   "execution_count": 6,
   "id": "cc1e64f0",
   "metadata": {},
   "outputs": [],
   "source": [
    "def foo(*positional, **keywords): # è importante nella definizione dargli gli *\n",
    "    print(\"Positional:\", positional, end='\\t')\n",
    "    print(\"Keywords:\", keywords)"
   ]
  },
  {
   "cell_type": "code",
   "execution_count": 7,
   "id": "396a8d6f",
   "metadata": {},
   "outputs": [
    {
     "name": "stdout",
     "output_type": "stream",
     "text": [
      "Positional: ('1st', '2nd', '3rd')\tKeywords: {}\n"
     ]
    }
   ],
   "source": [
    "foo('1st', '2nd', '3rd')"
   ]
  },
  {
   "cell_type": "code",
   "execution_count": 8,
   "id": "c702c8c9",
   "metadata": {},
   "outputs": [
    {
     "name": "stdout",
     "output_type": "stream",
     "text": [
      "Positional: ()\tKeywords: {'par1': '1st', 'par2': '2nd', 'par3': '3rd'}\n"
     ]
    }
   ],
   "source": [
    "foo(par1='1st', par2='2nd', par3='3rd')"
   ]
  },
  {
   "cell_type": "code",
   "execution_count": 9,
   "id": "24ebd811",
   "metadata": {},
   "outputs": [
    {
     "name": "stdout",
     "output_type": "stream",
     "text": [
      "Positional: ('1st',)\tKeywords: {'par2': '2nd', 'par3': '3rd'}\n"
     ]
    }
   ],
   "source": [
    "foo('1st', par2='2nd', par3='3rd')"
   ]
  },
  {
   "cell_type": "code",
   "execution_count": 10,
   "id": "66b30a82-d4d1-4c76-b8af-60e8dda2e708",
   "metadata": {},
   "outputs": [],
   "source": [
    "#esempio: in matplotlib ( kw_gridspec = {} ), kwargs, ..."
   ]
  },
  {
   "cell_type": "markdown",
   "id": "b94b73e0",
   "metadata": {},
   "source": [
    "As long as they are provided as a **starred ordered iterable**, positional arguments do not necessarily have to be passed first."
   ]
  },
  {
   "cell_type": "code",
   "execution_count": 11,
   "id": "448cc61e",
   "metadata": {},
   "outputs": [
    {
     "name": "stdout",
     "output_type": "stream",
     "text": [
      "Positional: ('tuple', 'unpacking')\tKeywords: {'par1': '1st_key', 'par2': '2nd_key'}\n"
     ]
    }
   ],
   "source": [
    "foo(par1='1st_key',*('tuple','unpacking'), par2='2nd_key')"
   ]
  },
  {
   "cell_type": "code",
   "execution_count": 12,
   "id": "d7b33c64",
   "metadata": {},
   "outputs": [
    {
     "name": "stdout",
     "output_type": "stream",
     "text": [
      "Positional: ('1st_pos', '2st_pos', '3rd_pos')\tKeywords: {'par1': '1st_key', 'par2': '2nd_key'}\n"
     ]
    }
   ],
   "source": [
    "foo(par1='1st_key',*['1st_pos'], par2='2nd_key',*['2st_pos','3rd_pos'])"
   ]
  },
  {
   "cell_type": "markdown",
   "id": "46d09973",
   "metadata": {},
   "source": [
    "But they have to be **_passed_ first** when defining a function: "
   ]
  },
  {
   "cell_type": "code",
   "execution_count": 13,
   "id": "a5f97384",
   "metadata": {},
   "outputs": [
    {
     "ename": "SyntaxError",
     "evalue": "arguments cannot follow var-keyword argument (1737973768.py, line 1)",
     "output_type": "error",
     "traceback": [
      "  \u001b[36mCell\u001b[39m\u001b[36m \u001b[39m\u001b[32mIn[13]\u001b[39m\u001b[32m, line 1\u001b[39m\n\u001b[31m    \u001b[39m\u001b[31mdef bar (**kwargs, *args):\u001b[39m\n                       ^\n\u001b[31mSyntaxError\u001b[39m\u001b[31m:\u001b[39m arguments cannot follow var-keyword argument\n"
     ]
    }
   ],
   "source": [
    "def bar (**kwargs, *args):\n",
    "    print(\"Positional:\", positional, end='\\t')\n",
    "    print(\"Keywords:\", keywords)"
   ]
  },
  {
   "cell_type": "markdown",
   "id": "da081225",
   "metadata": {},
   "source": [
    "> **NOTE THAT**, even though not strictly necessary, it is **good practice** to pass ``args`` before ``kwargs``"
   ]
  },
  {
   "cell_type": "code",
   "execution_count": 16,
   "id": "b0ac0942",
   "metadata": {},
   "outputs": [
    {
     "name": "stdout",
     "output_type": "stream",
     "text": [
      "<class 'function'>\n",
      "hello\n",
      "<class 'function'>\n"
     ]
    }
   ],
   "source": [
    "def hello():\n",
    "    print(\"hello\")\n",
    "    \n",
    "print(type(hello))\n",
    "\n",
    "a = hello\n",
    "a()\n",
    "print(type(a))"
   ]
  },
  {
   "cell_type": "markdown",
   "id": "e08a8aaf",
   "metadata": {},
   "source": [
    "### functions can use recursion"
   ]
  },
  {
   "cell_type": "code",
   "execution_count": 22,
   "id": "0fad5a02",
   "metadata": {},
   "outputs": [
    {
     "data": {
      "text/plain": [
       "145183092028285869634070784086308284983740379224208358846781574688061991349156420080065207861248000000000000000000"
      ]
     },
     "execution_count": 22,
     "metadata": {},
     "output_type": "execute_result"
    }
   ],
   "source": [
    "def factorial(n):\n",
    "    return 1 if n<2 else n * factorial(n-1)\n",
    "\n",
    "# factorial(5)\n",
    "factorial(77)"
   ]
  },
  {
   "cell_type": "markdown",
   "id": "9f6c97cf",
   "metadata": {},
   "source": [
    "### args name in functions can be used as `keyword`"
   ]
  },
  {
   "cell_type": "code",
   "execution_count": 26,
   "id": "4f625695",
   "metadata": {},
   "outputs": [
    {
     "name": "stdout",
     "output_type": "stream",
     "text": [
      "a got to_a\n",
      "b got to_b\n",
      "c got to_c\n"
     ]
    }
   ],
   "source": [
    "def abc(a,b,c):\n",
    "    for i in ('a','b','c'):\n",
    "        print(i,\"got\",eval(i)) # eval: valuta il valore di un nome a cui è assegnato qualcosa. \n",
    "\n",
    "abc('to_a', 'to_b', 'to_c')"
   ]
  },
  {
   "cell_type": "code",
   "execution_count": 27,
   "id": "0d143836-5757-4c5d-aa76-4d8df196a20d",
   "metadata": {},
   "outputs": [
    {
     "name": "stdout",
     "output_type": "stream",
     "text": [
      "a got 1\n",
      "b got 2\n",
      "c got 3\n"
     ]
    }
   ],
   "source": [
    "eval('abc')('1', '2', '3')"
   ]
  },
  {
   "cell_type": "code",
   "execution_count": 28,
   "id": "0145edb8",
   "metadata": {},
   "outputs": [
    {
     "name": "stdout",
     "output_type": "stream",
     "text": [
      "a got to_a\n",
      "b got to_b\n",
      "c got to_c\n"
     ]
    }
   ],
   "source": [
    "abc(b = 'to_b', c = 'to_c', a = 'to_a')"
   ]
  },
  {
   "cell_type": "markdown",
   "id": "2042d809",
   "metadata": {},
   "source": [
    "###  if you want keyord-only arguments, put a `*` in the signature"
   ]
  },
  {
   "cell_type": "code",
   "execution_count": 29,
   "id": "0e91bd46",
   "metadata": {},
   "outputs": [
    {
     "name": "stdout",
     "output_type": "stream",
     "text": [
      "a got to_a\n",
      "b got to_b\n",
      "c got to_c\n"
     ]
    }
   ],
   "source": [
    "def abc_keyword_only(*,a,b,c):\n",
    "    for i in ('a','b','c'):\n",
    "        print(i,\"got\",eval(i))\n",
    "\n",
    "#abc_keyword_only('to_a', 'to_b', 'to_c') # error\n",
    "abc_keyword_only(b = 'to_b', c = 'to_c', a = 'to_a')"
   ]
  },
  {
   "cell_type": "markdown",
   "id": "84f705f3",
   "metadata": {},
   "source": [
    "### default values"
   ]
  },
  {
   "cell_type": "code",
   "execution_count": 30,
   "id": "95671df8",
   "metadata": {},
   "outputs": [
    {
     "name": "stdout",
     "output_type": "stream",
     "text": [
      "a got default_a\n",
      "b got to_b\n",
      "c got default_c\n"
     ]
    }
   ],
   "source": [
    "def abc_with_default(a='default_a',\n",
    "                     b='default_b',\n",
    "                     c='default_c'):\n",
    "    abc(a,b,c)\n",
    "    \n",
    "abc_with_default(b = 'to_b')"
   ]
  },
  {
   "cell_type": "code",
   "execution_count": 32,
   "id": "9472247d-5fcb-40de-8f8f-db30624219a3",
   "metadata": {},
   "outputs": [],
   "source": [
    "def vel(space, time, unit=1.0):\n",
    "    return space/time * unit"
   ]
  },
  {
   "cell_type": "code",
   "execution_count": 33,
   "id": "3718ea04-49a6-4233-a049-6bb828dfd358",
   "metadata": {},
   "outputs": [
    {
     "data": {
      "text/plain": [
       "0.01"
      ]
     },
     "execution_count": 33,
     "metadata": {},
     "output_type": "execute_result"
    }
   ],
   "source": [
    "vel (10,1, unit=1.e-3)"
   ]
  },
  {
   "cell_type": "code",
   "execution_count": 34,
   "id": "e5fe16b1-31ba-4ab4-acbe-d237cc6fc788",
   "metadata": {},
   "outputs": [
    {
     "data": {
      "text/plain": [
       "10.0"
      ]
     },
     "execution_count": 34,
     "metadata": {},
     "output_type": "execute_result"
    }
   ],
   "source": [
    "vel (10, 1, unit=1)"
   ]
  },
  {
   "cell_type": "markdown",
   "id": "546a6728",
   "metadata": {},
   "source": [
    "### A couple of relevant built-in functions\n",
    "\n",
    "* ``print`` redirects the representation string of the positional arguments to the **STDOUT** (by default)"
   ]
  },
  {
   "cell_type": "code",
   "execution_count": 35,
   "id": "3315d1a1",
   "metadata": {},
   "outputs": [
    {
     "name": "stdout",
     "output_type": "stream",
     "text": [
      "The answer is 42\n",
      "\n"
     ]
    }
   ],
   "source": [
    "answer=42\n",
    "print(f'The answer is {answer:d}', end='\\n\\n')\n",
    "# di defoult print stampa nello STDOUT, ma posso cambiare dei comportamenti:\n",
    "# gli spazi, le righe con \\n o \\n\\n, "
   ]
  },
  {
   "cell_type": "code",
   "execution_count": 38,
   "id": "e4d0a205-4029-4d15-83d0-1a264b85c246",
   "metadata": {},
   "outputs": [
    {
     "name": "stdout",
     "output_type": "stream",
     "text": [
      "Help on built-in function print in module builtins:\n",
      "\n",
      "print(*args, sep=' ', end='\\n', file=None, flush=False)\n",
      "    Prints the values to a stream, or to sys.stdout by default.\n",
      "\n",
      "    sep\n",
      "      string inserted between values, default a space.\n",
      "    end\n",
      "      string appended after the last value, default a newline.\n",
      "    file\n",
      "      a file-like object (stream); defaults to the current sys.stdout.\n",
      "    flush\n",
      "      whether to forcibly flush the stream.\n",
      "\n"
     ]
    }
   ],
   "source": [
    "help(print)"
   ]
  },
  {
   "cell_type": "code",
   "execution_count": 41,
   "id": "f5b37fda",
   "metadata": {},
   "outputs": [],
   "source": [
    "import sys #definisce i comportamenti propri del mio sistema, computer. Da qui per esempio viene preso il STDOUT"
   ]
  },
  {
   "cell_type": "code",
   "execution_count": 42,
   "id": "e6654f9c",
   "metadata": {},
   "outputs": [
    {
     "name": "stderr",
     "output_type": "stream",
     "text": [
      "error\n"
     ]
    }
   ],
   "source": [
    "a = 1\n",
    "b = 0\n",
    "try :\n",
    "    c = a/b\n",
    "except :\n",
    "    print( 'error', file=sys.stderr)"
   ]
  },
  {
   "cell_type": "markdown",
   "id": "bee9e4d2",
   "metadata": {},
   "source": [
    "* ``input`` redirects the **STDIN** to some user defined variable"
   ]
  },
  {
   "cell_type": "code",
   "execution_count": 44,
   "id": "91d94626",
   "metadata": {},
   "outputs": [
    {
     "name": "stdin",
     "output_type": "stream",
     "text": [
      "What is the question?  Che c'è a pranzo?\n"
     ]
    }
   ],
   "source": [
    "question=input('What is the question? ')"
   ]
  },
  {
   "cell_type": "code",
   "execution_count": 45,
   "id": "2709cbe4",
   "metadata": {},
   "outputs": [
    {
     "data": {
      "text/plain": [
       "\"Che c'è a pranzo?\""
      ]
     },
     "execution_count": 45,
     "metadata": {},
     "output_type": "execute_result"
    }
   ],
   "source": [
    "question\n"
   ]
  },
  {
   "cell_type": "code",
   "execution_count": 46,
   "id": "db3182b2",
   "metadata": {},
   "outputs": [
    {
     "name": "stdout",
     "output_type": "stream",
     "text": [
      "Help on method raw_input in module ipykernel.kernelbase:\n",
      "\n",
      "raw_input(prompt='') method of ipykernel.ipkernel.IPythonKernel instance\n",
      "    Forward raw_input to frontends\n",
      "\n",
      "    Raises\n",
      "    ------\n",
      "    StdinNotImplementedError if active frontend doesn't support stdin.\n",
      "\n"
     ]
    }
   ],
   "source": [
    "help(input)"
   ]
  },
  {
   "cell_type": "markdown",
   "id": "894213f6",
   "metadata": {},
   "source": [
    "> **NOTE** that every STDIN entry is interpreted AS A STRING, so you should cast it to the relevant type:"
   ]
  },
  {
   "cell_type": "code",
   "execution_count": 47,
   "id": "3412963e",
   "metadata": {},
   "outputs": [
    {
     "data": {
      "text/plain": [
       "str"
      ]
     },
     "execution_count": 47,
     "metadata": {},
     "output_type": "execute_result"
    }
   ],
   "source": [
    "type(question)"
   ]
  },
  {
   "cell_type": "code",
   "execution_count": 51,
   "id": "9fc0a7a2-9ca2-436f-a967-d60d322ba339",
   "metadata": {},
   "outputs": [
    {
     "name": "stdin",
     "output_type": "stream",
     "text": [
      "What is the answer? 42\n"
     ]
    }
   ],
   "source": [
    "answer=int(input('What is the answer?'))"
   ]
  },
  {
   "cell_type": "code",
   "execution_count": 49,
   "id": "51a89ba5",
   "metadata": {},
   "outputs": [
    {
     "name": "stdin",
     "output_type": "stream",
     "text": [
      "What is the answer? pasta\n"
     ]
    }
   ],
   "source": [
    "answer=str(input('What is the answer?'))"
   ]
  },
  {
   "cell_type": "code",
   "execution_count": 50,
   "id": "9a8d749f",
   "metadata": {},
   "outputs": [
    {
     "data": {
      "text/plain": [
       "('pasta', str)"
      ]
     },
     "execution_count": 50,
     "metadata": {},
     "output_type": "execute_result"
    }
   ],
   "source": [
    "answer, type(answer)"
   ]
  },
  {
   "cell_type": "markdown",
   "id": "530d2a0d",
   "metadata": {},
   "source": [
    "## Documentation is mandatory.\n",
    "\n",
    "Since in the Python language the information is implicit (as the type of the variables), special care has to be put in documenting the source code: explain what is the purpose of the function in a concise way and describe the arguments with their type, as well the expected result type.\n",
    "\n",
    "* **docstring**, the documentation string, should provide informations on usage, input arguments, and returned values\n",
    "* **annotation**, modifies the signature of a function, providing relevant information\n",
    "\n",
    "```python\n",
    "def foo () :\n",
    "    \"\"\"string documenting foo(). \n",
    "    accessible via help(foo)\n",
    "    \"\"\"\n",
    "    pass\n",
    "help(foo)\n",
    "```\n",
    "\n",
    "will produce the following output\n",
    "\n",
    "```\n",
    "Help on function foo in module __main__: \n",
    "\n",
    "foo()\n",
    "    string documenting foo(). \n",
    "    accessible via help(foo)\n",
    "```\n",
    "where ``foo()`` is the function **SIGNATURE**, and what follows is the **DOCUMENTATION**"
   ]
  },
  {
   "cell_type": "markdown",
   "id": "a765a52b",
   "metadata": {},
   "source": [
    "### docstring\n",
    "\n",
    "[Different possible styles exist](http://daouzli.com/blog/docstring.html), choose the one you like\n",
    "\n",
    "**BUT YOU SHOULD BE CONSISTENT**"
   ]
  },
  {
   "cell_type": "code",
   "execution_count": 52,
   "id": "33b9799f",
   "metadata": {},
   "outputs": [
    {
     "name": "stdout",
     "output_type": "stream",
     "text": [
      "Help on function squared in module __main__:\n",
      "\n",
      "squared(x)\n",
      "    Calculates the square of a number\n",
      "\n",
      "    Parameters\n",
      "    ----------\n",
      "    x : float\n",
      "        a number\n",
      "\n",
      "    Returns\n",
      "    -------\n",
      "    : float\n",
      "        the square of x\n",
      "\n"
     ]
    }
   ],
   "source": [
    "def squared ( x ):\n",
    "    \"\"\"Calculates the square of a number\n",
    "    \n",
    "    Parameters\n",
    "    ----------\n",
    "    x : float\n",
    "        a number\n",
    "        \n",
    "    Returns\n",
    "    -------\n",
    "    : float\n",
    "        the square of x\n",
    "    \"\"\"\n",
    "    return x*x\n",
    "\n",
    "help(squared)"
   ]
  },
  {
   "cell_type": "markdown",
   "id": "956f70f1",
   "metadata": {},
   "source": [
    "### function annotations\n",
    "\n",
    "Modify the signature of the function providing informations on the input and output types."
   ]
  },
  {
   "cell_type": "code",
   "execution_count": 53,
   "id": "9dd70cf2",
   "metadata": {},
   "outputs": [],
   "source": [
    "def complicated_function(text:str, max_len:'int>0'=80) -> str:\n",
    "    '''documentation for complicated_function'''\n",
    "    pass"
   ]
  },
  {
   "cell_type": "code",
   "execution_count": 54,
   "id": "4eff889b",
   "metadata": {},
   "outputs": [
    {
     "name": "stdout",
     "output_type": "stream",
     "text": [
      "Help on function complicated_function in module __main__:\n",
      "\n",
      "complicated_function(text: str, max_len: 'int>0' = 80) -> str\n",
      "    documentation for complicated_function\n",
      "\n"
     ]
    }
   ],
   "source": [
    "help(complicated_function)"
   ]
  },
  {
   "cell_type": "markdown",
   "id": "00668779",
   "metadata": {},
   "source": [
    "> **NOTE** that this is not fail-proof: it's for humans not for machines. "
   ]
  },
  {
   "cell_type": "code",
   "execution_count": 55,
   "id": "2cd3ad42",
   "metadata": {},
   "outputs": [],
   "source": [
    "from math import sqrt"
   ]
  },
  {
   "cell_type": "code",
   "execution_count": 56,
   "id": "29ba82c9",
   "metadata": {},
   "outputs": [
    {
     "ename": "ValueError",
     "evalue": "math domain error",
     "output_type": "error",
     "traceback": [
      "\u001b[31m---------------------------------------------------------------------------\u001b[39m",
      "\u001b[31mValueError\u001b[39m                                Traceback (most recent call last)",
      "\u001b[36mCell\u001b[39m\u001b[36m \u001b[39m\u001b[32mIn[56]\u001b[39m\u001b[32m, line 1\u001b[39m\n\u001b[32m----> \u001b[39m\u001b[32m1\u001b[39m \u001b[43msqrt\u001b[49m\u001b[43m(\u001b[49m\u001b[43m-\u001b[49m\u001b[32;43m2\u001b[39;49m\u001b[43m)\u001b[49m\n",
      "\u001b[31mValueError\u001b[39m: math domain error"
     ]
    }
   ],
   "source": [
    "sqrt(-2)"
   ]
  },
  {
   "cell_type": "code",
   "execution_count": 57,
   "id": "b211db9a",
   "metadata": {},
   "outputs": [],
   "source": [
    "def buggy_sqrt_safe( x : 'float>0.0' ) -> float:\n",
    "    from math import sqrt\n",
    "    return sqrt(x)"
   ]
  },
  {
   "cell_type": "code",
   "execution_count": 58,
   "id": "7a57d846",
   "metadata": {},
   "outputs": [
    {
     "ename": "ValueError",
     "evalue": "math domain error",
     "output_type": "error",
     "traceback": [
      "\u001b[31m---------------------------------------------------------------------------\u001b[39m",
      "\u001b[31mValueError\u001b[39m                                Traceback (most recent call last)",
      "\u001b[36mCell\u001b[39m\u001b[36m \u001b[39m\u001b[32mIn[58]\u001b[39m\u001b[32m, line 1\u001b[39m\n\u001b[32m----> \u001b[39m\u001b[32m1\u001b[39m \u001b[43mbuggy_sqrt_safe\u001b[49m\u001b[43m(\u001b[49m\u001b[43m-\u001b[49m\u001b[32;43m2\u001b[39;49m\u001b[43m)\u001b[49m\n",
      "\u001b[36mCell\u001b[39m\u001b[36m \u001b[39m\u001b[32mIn[57]\u001b[39m\u001b[32m, line 3\u001b[39m, in \u001b[36mbuggy_sqrt_safe\u001b[39m\u001b[34m(x)\u001b[39m\n\u001b[32m      1\u001b[39m \u001b[38;5;28;01mdef\u001b[39;00m\u001b[38;5;250m \u001b[39m\u001b[34mbuggy_sqrt_safe\u001b[39m( x : \u001b[33m'\u001b[39m\u001b[33mfloat>0.0\u001b[39m\u001b[33m'\u001b[39m ) -> \u001b[38;5;28mfloat\u001b[39m:\n\u001b[32m      2\u001b[39m     \u001b[38;5;28;01mfrom\u001b[39;00m\u001b[38;5;250m \u001b[39m\u001b[34;01mmath\u001b[39;00m\u001b[38;5;250m \u001b[39m\u001b[38;5;28;01mimport\u001b[39;00m sqrt\n\u001b[32m----> \u001b[39m\u001b[32m3\u001b[39m     \u001b[38;5;28;01mreturn\u001b[39;00m \u001b[43msqrt\u001b[49m\u001b[43m(\u001b[49m\u001b[43mx\u001b[49m\u001b[43m)\u001b[49m\n",
      "\u001b[31mValueError\u001b[39m: math domain error"
     ]
    }
   ],
   "source": [
    "buggy_sqrt_safe(-2)"
   ]
  },
  {
   "cell_type": "code",
   "execution_count": 59,
   "id": "e4e075b6",
   "metadata": {},
   "outputs": [],
   "source": [
    "def sqrt_safe(x) -> float:\n",
    "    from math import sqrt\n",
    "    if x < 0.0 :\n",
    "        return sqrt(-x) * 1j\n",
    "    else :\n",
    "        return sqrt(x)"
   ]
  },
  {
   "cell_type": "code",
   "execution_count": 60,
   "id": "9b5c284f",
   "metadata": {},
   "outputs": [
    {
     "data": {
      "text/plain": [
       "1.4142135623730951j"
      ]
     },
     "execution_count": 60,
     "metadata": {},
     "output_type": "execute_result"
    }
   ],
   "source": [
    "sqrt_safe(-2)"
   ]
  },
  {
   "cell_type": "code",
   "execution_count": 63,
   "id": "be4c5dcb",
   "metadata": {},
   "outputs": [],
   "source": [
    "def sqrt_safe_v2 (x : 'float>0.0') -> float:\n",
    "    from math import sqrt\n",
    "    res = None\n",
    "    try :\n",
    "        res = sqrt(x)\n",
    "    except :\n",
    "        res = None\n",
    "    return res"
   ]
  },
  {
   "cell_type": "code",
   "execution_count": 64,
   "id": "d8ecc5f1",
   "metadata": {},
   "outputs": [],
   "source": [
    "if sqrt_safe_v2(-2) is None :\n",
    "    continue"
   ]
  },
  {
   "cell_type": "code",
   "execution_count": 65,
   "id": "6917595a-1938-4fd0-8d92-89aeb6e06231",
   "metadata": {},
   "outputs": [],
   "source": [
    "from math import sqrt"
   ]
  },
  {
   "cell_type": "code",
   "execution_count": 66,
   "id": "382ec80b-0219-4296-a746-fb055aa9dc2e",
   "metadata": {},
   "outputs": [
    {
     "ename": "TypeError",
     "evalue": "must be real number, not list",
     "output_type": "error",
     "traceback": [
      "\u001b[31m---------------------------------------------------------------------------\u001b[39m",
      "\u001b[31mTypeError\u001b[39m                                 Traceback (most recent call last)",
      "\u001b[36mCell\u001b[39m\u001b[36m \u001b[39m\u001b[32mIn[66]\u001b[39m\u001b[32m, line 1\u001b[39m\n\u001b[32m----> \u001b[39m\u001b[32m1\u001b[39m \u001b[43msqrt\u001b[49m\u001b[43m(\u001b[49m\u001b[43m[\u001b[49m\u001b[32;43m2\u001b[39;49m\u001b[43m,\u001b[49m\u001b[43m \u001b[49m\u001b[32;43m4\u001b[39;49m\u001b[43m,\u001b[49m\u001b[43m \u001b[49m\u001b[32;43m8\u001b[39;49m\u001b[43m,\u001b[49m\u001b[43m \u001b[49m\u001b[32;43m9\u001b[39;49m\u001b[43m]\u001b[49m\u001b[43m)\u001b[49m\n",
      "\u001b[31mTypeError\u001b[39m: must be real number, not list"
     ]
    }
   ],
   "source": [
    "sqrt([2, 4, 8, 9])"
   ]
  },
  {
   "cell_type": "code",
   "execution_count": 69,
   "id": "0aa2a678-2b47-489c-8145-47bd75fbb0b4",
   "metadata": {},
   "outputs": [],
   "source": [
    "def sqrt(a):\n",
    "    from math import sqrt\n",
    "    if hasattr(a, '__len__'): # ricorda: tutti gli iterabili, tuple, liste dizionari etc, hanno l'attributo __len__!!\n",
    "        return [sqrt(_a) for _a in a]\n",
    "    else:\n",
    "        return sqrt(a)"
   ]
  },
  {
   "cell_type": "code",
   "execution_count": 67,
   "id": "efecd875-9675-4cb2-aa8a-a4ffe632e783",
   "metadata": {},
   "outputs": [
    {
     "data": {
      "text/plain": [
       "tuple"
      ]
     },
     "execution_count": 67,
     "metadata": {},
     "output_type": "execute_result"
    }
   ],
   "source": [
    "type(tuple())"
   ]
  },
  {
   "cell_type": "code",
   "execution_count": 70,
   "id": "7ffe1ef9-849d-498d-b877-d4d4b8e3945e",
   "metadata": {},
   "outputs": [
    {
     "data": {
      "text/plain": [
       "1.0"
      ]
     },
     "execution_count": 70,
     "metadata": {},
     "output_type": "execute_result"
    }
   ],
   "source": [
    "sqrt(a)"
   ]
  },
  {
   "cell_type": "code",
   "execution_count": null,
   "id": "c87d3bdb-867b-4553-9d95-f2623aef9c78",
   "metadata": {},
   "outputs": [],
   "source": []
  }
 ],
 "metadata": {
  "kernelspec": {
   "display_name": "Python 3 (ipykernel)",
   "language": "python",
   "name": "python3"
  },
  "language_info": {
   "codemirror_mode": {
    "name": "ipython",
    "version": 3
   },
   "file_extension": ".py",
   "mimetype": "text/x-python",
   "name": "python",
   "nbconvert_exporter": "python",
   "pygments_lexer": "ipython3",
   "version": "3.13.2"
  }
 },
 "nbformat": 4,
 "nbformat_minor": 5
}
