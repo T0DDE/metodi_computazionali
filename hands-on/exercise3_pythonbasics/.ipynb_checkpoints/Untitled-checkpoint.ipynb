{
 "cells": [
  {
   "cell_type": "code",
   "execution_count": 10,
   "id": "a3ec526a-43db-469d-8190-86fb4376ff9e",
   "metadata": {},
   "outputs": [
    {
     "name": "stdin",
     "output_type": "stream",
     "text": [
      "Inserisci un numero da verificare :) 9\n"
     ]
    },
    {
     "name": "stdout",
     "output_type": "stream",
     "text": [
      "9 non è divisibile per 2\n",
      "9 è divisibile per 3\n",
      "9 non è divisibile per 5\n",
      "9 non è divisibile per 7\n"
     ]
    }
   ],
   "source": [
    "# File: ex3.0_solution.py\n",
    "\n",
    "def divide(a):\n",
    "    \"\"\"\n",
    "    La funzione richiede un intero, e dirà se è divisibile per 2, 3, 5, 7.\n",
    "\n",
    "    Parametri\n",
    "    ---------\n",
    "    a: intero\n",
    "\n",
    "    Ritorna\n",
    "    -------\n",
    "    None\n",
    "    \"\"\"\n",
    "    b = {2, 3, 5, 7}\n",
    "    for _ in b:\n",
    "        if a % _ == False: \n",
    "            print(a, \"è divisibile per\", _)\n",
    "        else:\n",
    "            print(a, \"non è divisibile per\", _)\n",
    "    return;\n",
    "        \n",
    "\n",
    "numero_da_dividere = int(input(\"Inserisci un numero da verificare :)\"))\n",
    "\n",
    "divide(numero_da_dividere)"
   ]
  },
  {
   "cell_type": "code",
   "execution_count": 8,
   "id": "19b61535-fcd2-4575-a849-fe7624718243",
   "metadata": {},
   "outputs": [
    {
     "name": "stdin",
     "output_type": "stream",
     "text": [
      "Inserisci ultimo termine da visualizzare 20\n"
     ]
    },
    {
     "data": {
      "text/plain": [
       "[0,\n",
       " 1,\n",
       " 1,\n",
       " 2,\n",
       " 3,\n",
       " 5,\n",
       " 8,\n",
       " 13,\n",
       " 21,\n",
       " 34,\n",
       " 55,\n",
       " 89,\n",
       " 144,\n",
       " 233,\n",
       " 377,\n",
       " 610,\n",
       " 987,\n",
       " 1597,\n",
       " 2584,\n",
       " 4181,\n",
       " 6765,\n",
       " 10946]"
      ]
     },
     "execution_count": 8,
     "metadata": {},
     "output_type": "execute_result"
    }
   ],
   "source": [
    "#File: ex3.2_solution.py\n",
    "\n",
    "def _test1 ( n ) :\n",
    "    \"\"\"A function that computes the Fibonacci sequence up to the n-th term\n",
    "\n",
    "    Parameters\n",
    "    ----------\n",
    "    n : int \n",
    "        the n-th term of the sequence\n",
    "\n",
    "    Returns\n",
    "    -------\n",
    "    : list\n",
    "        a list with the Fibonacci sequence\n",
    "    \"\"\"\n",
    "    Fibonacci_list = []\n",
    "    i = 0\n",
    "    while i <= n:\n",
    "        if i == 0:\n",
    "            Fibonacci_list.append(0)\n",
    "            Fibonacci_list.append(1)\n",
    "            i+=1\n",
    "        else:\n",
    "            Fibonacci_list.append(int(Fibonacci_list[i]) + int(Fibonacci_list[i-1]))\n",
    "            i+=1\n",
    "    return Fibonacci_list\n",
    "\n",
    "ultimo_termine = int(input(\"Inserisci ultimo termine da visualizzare\"))\n",
    "_test1(ultimo_termine)"
   ]
  },
  {
   "cell_type": "code",
   "execution_count": 11,
   "id": "0cfb2637-e08f-49bc-8d2b-c21dda8f7890",
   "metadata": {},
   "outputs": [
    {
     "name": "stdout",
     "output_type": "stream",
     "text": [
      "Help on function divide in module __main__:\n",
      "\n",
      "divide(a)\n",
      "    La funzione richiede un intero, e dirà se è divisibile per 2, 3, 5, 7.\n",
      "\n",
      "    Parametri\n",
      "    ---------\n",
      "    a: intero\n",
      "\n",
      "    Ritorna\n",
      "    -------\n",
      "    None\n",
      "\n"
     ]
    }
   ],
   "source": [
    "help(divide)"
   ]
  },
  {
   "cell_type": "code",
   "execution_count": 12,
   "id": "8d7544ed-e14f-40ae-a3c9-5a80c83c6202",
   "metadata": {},
   "outputs": [
    {
     "name": "stdout",
     "output_type": "stream",
     "text": [
      "Help on function _test1 in module __main__:\n",
      "\n",
      "_test1(n)\n",
      "    A function that computes the Fibonacci sequence up to the n-th term\n",
      "\n",
      "    Parameters\n",
      "    ----------\n",
      "    n : int\n",
      "        the n-th term of the sequence\n",
      "\n",
      "    Returns\n",
      "    -------\n",
      "    : list\n",
      "        a list with the Fibonacci sequence\n",
      "\n"
     ]
    }
   ],
   "source": [
    "help(_test1)"
   ]
  },
  {
   "cell_type": "code",
   "execution_count": null,
   "id": "1fe51556-c944-431a-b71e-56954b699032",
   "metadata": {},
   "outputs": [],
   "source": [
    "#File: ex3.5_solution.py\n",
    "\n",
    "def primi(n):\n",
    "    numeri_1_100 = set(i+1 for i in range(100))\n",
    "    numeri_primi=[]\n",
    "    r = 2\n",
    "    while r <= 100:\n",
    "        a=1\n",
    "        while a < r:\n",
    "            if r%a is not False:\n",
    "                numeri_primi.append(a)\n",
    "\n",
    "\n",
    "\n",
    "    "
   ]
  },
  {
   "cell_type": "code",
   "execution_count": 23,
   "id": "514f61b2-e662-4d9b-a216-826259c1ab26",
   "metadata": {},
   "outputs": [
    {
     "name": "stdout",
     "output_type": "stream",
     "text": [
      "1\n",
      "2\n",
      "3\n",
      "4\n",
      "5\n",
      "6\n",
      "7\n",
      "8\n",
      "9\n",
      "10\n"
     ]
    }
   ],
   "source": [
    "k = 1\n",
    "while k <= 10:\n",
    "    print(k)\n",
    "    k += 1"
   ]
  },
  {
   "cell_type": "code",
   "execution_count": null,
   "id": "ee0efc63-2900-482e-a333-68a8fef7c88a",
   "metadata": {},
   "outputs": [],
   "source": [
    "def primi(n):\n",
    "    fattori_primi = []\n",
    "    while i <= n:\n",
    "        if n/i is False:\n",
    "            fattori"
   ]
  }
 ],
 "metadata": {
  "kernelspec": {
   "display_name": "Python 3 (ipykernel)",
   "language": "python",
   "name": "python3"
  },
  "language_info": {
   "codemirror_mode": {
    "name": "ipython",
    "version": 3
   },
   "file_extension": ".py",
   "mimetype": "text/x-python",
   "name": "python",
   "nbconvert_exporter": "python",
   "pygments_lexer": "ipython3",
   "version": "3.13.2"
  }
 },
 "nbformat": 4,
 "nbformat_minor": 5
}
